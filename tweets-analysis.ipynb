{
 "cells": [
  {
   "cell_type": "markdown",
   "metadata": {},
   "source": [
    "# Tweets Analysis"
   ]
  },
  {
   "cell_type": "markdown",
   "metadata": {},
   "source": [
    "## 1. Import Libraries"
   ]
  },
  {
   "cell_type": "code",
   "execution_count": 1,
   "metadata": {},
   "outputs": [],
   "source": [
    "import numpy as np\n",
    "import pandas as pd\n",
    "from time import time\n",
    "import warnings\n",
    "from sklearn.svm import SVC\n",
    "from sklearn.naive_bayes import MultinomialNB\n",
    "from sklearn.ensemble import AdaBoostClassifier\n",
    "from sklearn.model_selection import train_test_split, cross_val_score, GridSearchCV\n",
    "from sklearn.metrics import classification_report, fbeta_score, accuracy_score, confusion_matrix, plot_roc_curve, ConfusionMatrixDisplay, make_scorer\n",
    "from sklearn.feature_extraction.text import TfidfVectorizer\n",
    "import matplotlib.pyplot as plt\n",
    "import matplotlib.patches as mpatches\n",
    "from imblearn.over_sampling import RandomOverSampler\n"
   ]
  },
  {
   "cell_type": "markdown",
   "metadata": {},
   "source": [
    "## 2. Read the Data"
   ]
  },
  {
   "cell_type": "code",
   "execution_count": 2,
   "metadata": {},
   "outputs": [
    {
     "data": {
      "text/html": [
       "<div>\n",
       "<style scoped>\n",
       "    .dataframe tbody tr th:only-of-type {\n",
       "        vertical-align: middle;\n",
       "    }\n",
       "\n",
       "    .dataframe tbody tr th {\n",
       "        vertical-align: top;\n",
       "    }\n",
       "\n",
       "    .dataframe thead th {\n",
       "        text-align: right;\n",
       "    }\n",
       "</style>\n",
       "<table border=\"1\" class=\"dataframe\">\n",
       "  <thead>\n",
       "    <tr style=\"text-align: right;\">\n",
       "      <th></th>\n",
       "      <th>ID</th>\n",
       "      <th>Tweet</th>\n",
       "      <th>Timestamp</th>\n",
       "      <th>Likes</th>\n",
       "      <th>Retweets</th>\n",
       "      <th>Length</th>\n",
       "      <th>Date</th>\n",
       "      <th>Time</th>\n",
       "      <th>Class</th>\n",
       "    </tr>\n",
       "  </thead>\n",
       "  <tbody>\n",
       "    <tr>\n",
       "      <th>0</th>\n",
       "      <td>1.497300e+18</td>\n",
       "      <td>قبيل الاحتفال بـ اليوم الدولي لمراة تستعد كوكب...</td>\n",
       "      <td>2/25/22 23:00</td>\n",
       "      <td>1</td>\n",
       "      <td>0</td>\n",
       "      <td>198</td>\n",
       "      <td>2/25/2022</td>\n",
       "      <td>8:00:01 PM</td>\n",
       "      <td>positive</td>\n",
       "    </tr>\n",
       "    <tr>\n",
       "      <th>1</th>\n",
       "      <td>1.497300e+18</td>\n",
       "      <td>لحظات نزول دابانغ سلمان خان علا ارض المسرح اك...</td>\n",
       "      <td>2/25/22 22:57</td>\n",
       "      <td>2</td>\n",
       "      <td>0</td>\n",
       "      <td>207</td>\n",
       "      <td>2/25/2022</td>\n",
       "      <td>7:57:14 PM</td>\n",
       "      <td>positive</td>\n",
       "    </tr>\n",
       "    <tr>\n",
       "      <th>2</th>\n",
       "      <td>1.497300e+18</td>\n",
       "      <td>ليلة ميزة بانتظارنا   الحانها شرقية نجومها است...</td>\n",
       "      <td>2/25/22 22:47</td>\n",
       "      <td>0</td>\n",
       "      <td>0</td>\n",
       "      <td>232</td>\n",
       "      <td>2/25/2022</td>\n",
       "      <td>7:47:38 PM</td>\n",
       "      <td>positive</td>\n",
       "    </tr>\n",
       "    <tr>\n",
       "      <th>3</th>\n",
       "      <td>1.497300e+18</td>\n",
       "      <td>اصدق حفلة احلا فستان مستان انا بختار  واذا حفل...</td>\n",
       "      <td>2/25/22 22:40</td>\n",
       "      <td>3</td>\n",
       "      <td>1</td>\n",
       "      <td>168</td>\n",
       "      <td>2/25/2022</td>\n",
       "      <td>7:40:37 PM</td>\n",
       "      <td>positive</td>\n",
       "    </tr>\n",
       "    <tr>\n",
       "      <th>4</th>\n",
       "      <td>1.497290e+18</td>\n",
       "      <td>جنون بعده جنون دابانغ سلمان خان يستعرض حشد كب...</td>\n",
       "      <td>2/25/22 22:21</td>\n",
       "      <td>5</td>\n",
       "      <td>2</td>\n",
       "      <td>178</td>\n",
       "      <td>2/25/2022</td>\n",
       "      <td>7:21:09 PM</td>\n",
       "      <td>positive</td>\n",
       "    </tr>\n",
       "  </tbody>\n",
       "</table>\n",
       "</div>"
      ],
      "text/plain": [
       "             ID                                              Tweet  \\\n",
       "0  1.497300e+18  قبيل الاحتفال بـ اليوم الدولي لمراة تستعد كوكب...   \n",
       "1  1.497300e+18   لحظات نزول دابانغ سلمان خان علا ارض المسرح اك...   \n",
       "2  1.497300e+18  ليلة ميزة بانتظارنا   الحانها شرقية نجومها است...   \n",
       "3  1.497300e+18  اصدق حفلة احلا فستان مستان انا بختار  واذا حفل...   \n",
       "4  1.497290e+18   جنون بعده جنون دابانغ سلمان خان يستعرض حشد كب...   \n",
       "\n",
       "       Timestamp  Likes  Retweets  Length       Date        Time     Class  \n",
       "0  2/25/22 23:00      1         0     198  2/25/2022  8:00:01 PM  positive  \n",
       "1  2/25/22 22:57      2         0     207  2/25/2022  7:57:14 PM  positive  \n",
       "2  2/25/22 22:47      0         0     232  2/25/2022  7:47:38 PM  positive  \n",
       "3  2/25/22 22:40      3         1     168  2/25/2022  7:40:37 PM  positive  \n",
       "4  2/25/22 22:21      5         2     178  2/25/2022  7:21:09 PM  positive  "
      ]
     },
     "execution_count": 2,
     "metadata": {},
     "output_type": "execute_result"
    }
   ],
   "source": [
    "tweets = pd.read_csv('Tweets\\\\final_tweets_classified.csv')\n",
    "tweets = tweets.drop(['Column1', 'index'], axis=1)\n",
    "tweets = tweets.reset_index(drop=True)\n",
    "tweets.head()\n"
   ]
  },
  {
   "cell_type": "code",
   "execution_count": 3,
   "metadata": {},
   "outputs": [
    {
     "name": "stdout",
     "output_type": "stream",
     "text": [
      "<class 'pandas.core.frame.DataFrame'>\n",
      "RangeIndex: 5875 entries, 0 to 5874\n",
      "Data columns (total 9 columns):\n",
      " #   Column     Non-Null Count  Dtype  \n",
      "---  ------     --------------  -----  \n",
      " 0   ID         5875 non-null   float64\n",
      " 1   Tweet      5875 non-null   object \n",
      " 2   Timestamp  5875 non-null   object \n",
      " 3   Likes      5875 non-null   int64  \n",
      " 4   Retweets   5875 non-null   int64  \n",
      " 5   Length     5875 non-null   int64  \n",
      " 6   Date       5875 non-null   object \n",
      " 7   Time       5875 non-null   object \n",
      " 8   Class      5875 non-null   object \n",
      "dtypes: float64(1), int64(3), object(5)\n",
      "memory usage: 413.2+ KB\n"
     ]
    }
   ],
   "source": [
    "tweets.info()"
   ]
  },
  {
   "cell_type": "code",
   "execution_count": 4,
   "metadata": {},
   "outputs": [
    {
     "data": {
      "text/plain": [
       "Index(['ID', 'Tweet', 'Timestamp', 'Likes', 'Retweets', 'Length', 'Date',\n",
       "       'Time', 'Class'],\n",
       "      dtype='object')"
      ]
     },
     "execution_count": 4,
     "metadata": {},
     "output_type": "execute_result"
    }
   ],
   "source": [
    "tweets.columns"
   ]
  },
  {
   "cell_type": "markdown",
   "metadata": {},
   "source": [
    "## 3. Predective Statistics"
   ]
  },
  {
   "cell_type": "markdown",
   "metadata": {},
   "source": [
    "### Data Preprocessing & Feature Extraction"
   ]
  },
  {
   "cell_type": "code",
   "execution_count": 5,
   "metadata": {},
   "outputs": [
    {
     "data": {
      "text/html": [
       "<div>\n",
       "<style scoped>\n",
       "    .dataframe tbody tr th:only-of-type {\n",
       "        vertical-align: middle;\n",
       "    }\n",
       "\n",
       "    .dataframe tbody tr th {\n",
       "        vertical-align: top;\n",
       "    }\n",
       "\n",
       "    .dataframe thead th {\n",
       "        text-align: right;\n",
       "    }\n",
       "</style>\n",
       "<table border=\"1\" class=\"dataframe\">\n",
       "  <thead>\n",
       "    <tr style=\"text-align: right;\">\n",
       "      <th></th>\n",
       "      <th>ID</th>\n",
       "      <th>Tweet</th>\n",
       "      <th>Timestamp</th>\n",
       "      <th>Likes</th>\n",
       "      <th>Retweets</th>\n",
       "      <th>Length</th>\n",
       "      <th>Date</th>\n",
       "      <th>Time</th>\n",
       "      <th>Class</th>\n",
       "    </tr>\n",
       "  </thead>\n",
       "  <tbody>\n",
       "    <tr>\n",
       "      <th>0</th>\n",
       "      <td>1.497300e+18</td>\n",
       "      <td>قبيل الاحتفال بـ اليوم الدولي لمراة تستعد كوكب...</td>\n",
       "      <td>2/25/22 23:00</td>\n",
       "      <td>1</td>\n",
       "      <td>0</td>\n",
       "      <td>198</td>\n",
       "      <td>2/25/2022</td>\n",
       "      <td>8:00:01 PM</td>\n",
       "      <td>positive</td>\n",
       "    </tr>\n",
       "    <tr>\n",
       "      <th>1</th>\n",
       "      <td>1.497300e+18</td>\n",
       "      <td>لحظات نزول دابانغ سلمان خان علا ارض المسرح اك...</td>\n",
       "      <td>2/25/22 22:57</td>\n",
       "      <td>2</td>\n",
       "      <td>0</td>\n",
       "      <td>207</td>\n",
       "      <td>2/25/2022</td>\n",
       "      <td>7:57:14 PM</td>\n",
       "      <td>positive</td>\n",
       "    </tr>\n",
       "    <tr>\n",
       "      <th>2</th>\n",
       "      <td>1.497300e+18</td>\n",
       "      <td>ليلة ميزة بانتظارنا   الحانها شرقية نجومها است...</td>\n",
       "      <td>2/25/22 22:47</td>\n",
       "      <td>0</td>\n",
       "      <td>0</td>\n",
       "      <td>232</td>\n",
       "      <td>2/25/2022</td>\n",
       "      <td>7:47:38 PM</td>\n",
       "      <td>positive</td>\n",
       "    </tr>\n",
       "    <tr>\n",
       "      <th>3</th>\n",
       "      <td>1.497300e+18</td>\n",
       "      <td>اصدق حفلة احلا فستان مستان انا بختار  واذا حفل...</td>\n",
       "      <td>2/25/22 22:40</td>\n",
       "      <td>3</td>\n",
       "      <td>1</td>\n",
       "      <td>168</td>\n",
       "      <td>2/25/2022</td>\n",
       "      <td>7:40:37 PM</td>\n",
       "      <td>positive</td>\n",
       "    </tr>\n",
       "    <tr>\n",
       "      <th>4</th>\n",
       "      <td>1.497290e+18</td>\n",
       "      <td>جنون بعده جنون دابانغ سلمان خان يستعرض حشد كب...</td>\n",
       "      <td>2/25/22 22:21</td>\n",
       "      <td>5</td>\n",
       "      <td>2</td>\n",
       "      <td>178</td>\n",
       "      <td>2/25/2022</td>\n",
       "      <td>7:21:09 PM</td>\n",
       "      <td>positive</td>\n",
       "    </tr>\n",
       "  </tbody>\n",
       "</table>\n",
       "</div>"
      ],
      "text/plain": [
       "             ID                                              Tweet  \\\n",
       "0  1.497300e+18  قبيل الاحتفال بـ اليوم الدولي لمراة تستعد كوكب...   \n",
       "1  1.497300e+18   لحظات نزول دابانغ سلمان خان علا ارض المسرح اك...   \n",
       "2  1.497300e+18  ليلة ميزة بانتظارنا   الحانها شرقية نجومها است...   \n",
       "3  1.497300e+18  اصدق حفلة احلا فستان مستان انا بختار  واذا حفل...   \n",
       "4  1.497290e+18   جنون بعده جنون دابانغ سلمان خان يستعرض حشد كب...   \n",
       "\n",
       "       Timestamp  Likes  Retweets  Length       Date        Time     Class  \n",
       "0  2/25/22 23:00      1         0     198  2/25/2022  8:00:01 PM  positive  \n",
       "1  2/25/22 22:57      2         0     207  2/25/2022  7:57:14 PM  positive  \n",
       "2  2/25/22 22:47      0         0     232  2/25/2022  7:47:38 PM  positive  \n",
       "3  2/25/22 22:40      3         1     168  2/25/2022  7:40:37 PM  positive  \n",
       "4  2/25/22 22:21      5         2     178  2/25/2022  7:21:09 PM  positive  "
      ]
     },
     "execution_count": 5,
     "metadata": {},
     "output_type": "execute_result"
    }
   ],
   "source": [
    "tweets.head()"
   ]
  },
  {
   "cell_type": "code",
   "execution_count": 6,
   "metadata": {},
   "outputs": [],
   "source": [
    "# Drop the neutral class \n",
    "tweets = tweets[tweets.Class != 'neutral']\n",
    "tweets = tweets.reset_index(drop=True)"
   ]
  },
  {
   "cell_type": "code",
   "execution_count": 7,
   "metadata": {},
   "outputs": [],
   "source": [
    "# Convert the classes negative and positive to 0 and 1 respectively\n",
    "tweets['Class'] = tweets['Class'].map({'negative': 0, 'positive': 1})"
   ]
  },
  {
   "cell_type": "code",
   "execution_count": 8,
   "metadata": {},
   "outputs": [
    {
     "data": {
      "text/html": [
       "<div>\n",
       "<style scoped>\n",
       "    .dataframe tbody tr th:only-of-type {\n",
       "        vertical-align: middle;\n",
       "    }\n",
       "\n",
       "    .dataframe tbody tr th {\n",
       "        vertical-align: top;\n",
       "    }\n",
       "\n",
       "    .dataframe thead th {\n",
       "        text-align: right;\n",
       "    }\n",
       "</style>\n",
       "<table border=\"1\" class=\"dataframe\">\n",
       "  <thead>\n",
       "    <tr style=\"text-align: right;\">\n",
       "      <th></th>\n",
       "      <th>ID</th>\n",
       "      <th>Tweet</th>\n",
       "      <th>Timestamp</th>\n",
       "      <th>Likes</th>\n",
       "      <th>Retweets</th>\n",
       "      <th>Length</th>\n",
       "      <th>Date</th>\n",
       "      <th>Time</th>\n",
       "      <th>Class</th>\n",
       "    </tr>\n",
       "  </thead>\n",
       "  <tbody>\n",
       "    <tr>\n",
       "      <th>3401</th>\n",
       "      <td>1.510730e+18</td>\n",
       "      <td>الي مدبوغ مسوي انسحب و الي مشترك دورة تجارية م...</td>\n",
       "      <td>4/4/22 0:33</td>\n",
       "      <td>15</td>\n",
       "      <td>1</td>\n",
       "      <td>287</td>\n",
       "      <td>4/3/2022</td>\n",
       "      <td>9:33:33 PM</td>\n",
       "      <td>0</td>\n",
       "    </tr>\n",
       "    <tr>\n",
       "      <th>3402</th>\n",
       "      <td>1.510720e+18</td>\n",
       "      <td>حمد ماجد عبداله معرض اكسبو  دبي حدثا فريدا ميزا</td>\n",
       "      <td>4/3/22 23:58</td>\n",
       "      <td>0</td>\n",
       "      <td>0</td>\n",
       "      <td>88</td>\n",
       "      <td>4/3/2022</td>\n",
       "      <td>8:58:37 PM</td>\n",
       "      <td>1</td>\n",
       "    </tr>\n",
       "    <tr>\n",
       "      <th>3403</th>\n",
       "      <td>1.510720e+18</td>\n",
       "      <td>اكبر حدث عالمي اكسبو  دبي حق  العالم</td>\n",
       "      <td>4/3/22 23:26</td>\n",
       "      <td>0</td>\n",
       "      <td>0</td>\n",
       "      <td>101</td>\n",
       "      <td>4/3/2022</td>\n",
       "      <td>8:26:59 PM</td>\n",
       "      <td>1</td>\n",
       "    </tr>\n",
       "    <tr>\n",
       "      <th>3404</th>\n",
       "      <td>1.510710e+18</td>\n",
       "      <td>جمال اكسبو وجمال دبي</td>\n",
       "      <td>4/3/22 23:07</td>\n",
       "      <td>0</td>\n",
       "      <td>0</td>\n",
       "      <td>38</td>\n",
       "      <td>4/3/2022</td>\n",
       "      <td>8:07:49 PM</td>\n",
       "      <td>1</td>\n",
       "    </tr>\n",
       "    <tr>\n",
       "      <th>3405</th>\n",
       "      <td>1.510710e+18</td>\n",
       "      <td>مشكورين بارك اله فيكم  نتمنا نرا اكسبو  الملكة...</td>\n",
       "      <td>4/3/22 23:06</td>\n",
       "      <td>8</td>\n",
       "      <td>0</td>\n",
       "      <td>187</td>\n",
       "      <td>4/3/2022</td>\n",
       "      <td>8:06:03 PM</td>\n",
       "      <td>1</td>\n",
       "    </tr>\n",
       "    <tr>\n",
       "      <th>3406</th>\n",
       "      <td>1.510710e+18</td>\n",
       "      <td>وداعا اكسبو  دبي   دولة  زاءر  راكب طرق دبي   ...</td>\n",
       "      <td>4/3/22 23:04</td>\n",
       "      <td>0</td>\n",
       "      <td>0</td>\n",
       "      <td>273</td>\n",
       "      <td>4/3/2022</td>\n",
       "      <td>8:04:27 PM</td>\n",
       "      <td>1</td>\n",
       "    </tr>\n",
       "    <tr>\n",
       "      <th>3407</th>\n",
       "      <td>1.510700e+18</td>\n",
       "      <td>فعلا دبي استثناءية   المعرض الهندي جوهم اكسبو</td>\n",
       "      <td>4/3/22 22:23</td>\n",
       "      <td>0</td>\n",
       "      <td>0</td>\n",
       "      <td>91</td>\n",
       "      <td>4/3/2022</td>\n",
       "      <td>7:23:32 PM</td>\n",
       "      <td>1</td>\n",
       "    </tr>\n",
       "    <tr>\n",
       "      <th>3408</th>\n",
       "      <td>1.510690e+18</td>\n",
       "      <td>اختام معرض اكسبو  دبي يومين الخميس فرصة المعرض...</td>\n",
       "      <td>4/3/22 21:38</td>\n",
       "      <td>1</td>\n",
       "      <td>0</td>\n",
       "      <td>304</td>\n",
       "      <td>4/3/2022</td>\n",
       "      <td>6:38:24 PM</td>\n",
       "      <td>1</td>\n",
       "    </tr>\n",
       "    <tr>\n",
       "      <th>3409</th>\n",
       "      <td>1.510690e+18</td>\n",
       "      <td>الحمدله انجاز راءع شكرا الامارات الحبيبه نبارك...</td>\n",
       "      <td>4/3/22 21:30</td>\n",
       "      <td>0</td>\n",
       "      <td>2</td>\n",
       "      <td>160</td>\n",
       "      <td>4/3/2022</td>\n",
       "      <td>6:30:47 PM</td>\n",
       "      <td>1</td>\n",
       "    </tr>\n",
       "    <tr>\n",
       "      <th>3410</th>\n",
       "      <td>1.510690e+18</td>\n",
       "      <td>اكسبو ابرز الارقام القياسية حقها جناح السعودية...</td>\n",
       "      <td>4/3/22 21:30</td>\n",
       "      <td>0</td>\n",
       "      <td>0</td>\n",
       "      <td>100</td>\n",
       "      <td>4/3/2022</td>\n",
       "      <td>6:30:06 PM</td>\n",
       "      <td>1</td>\n",
       "    </tr>\n",
       "  </tbody>\n",
       "</table>\n",
       "</div>"
      ],
      "text/plain": [
       "                ID                                              Tweet  \\\n",
       "3401  1.510730e+18  الي مدبوغ مسوي انسحب و الي مشترك دورة تجارية م...   \n",
       "3402  1.510720e+18   حمد ماجد عبداله معرض اكسبو  دبي حدثا فريدا ميزا    \n",
       "3403  1.510720e+18         اكبر حدث عالمي اكسبو  دبي حق  العالم         \n",
       "3404  1.510710e+18                            جمال اكسبو وجمال دبي      \n",
       "3405  1.510710e+18  مشكورين بارك اله فيكم  نتمنا نرا اكسبو  الملكة...   \n",
       "3406  1.510710e+18  وداعا اكسبو  دبي   دولة  زاءر  راكب طرق دبي   ...   \n",
       "3407  1.510700e+18      فعلا دبي استثناءية   المعرض الهندي جوهم اكسبو   \n",
       "3408  1.510690e+18  اختام معرض اكسبو  دبي يومين الخميس فرصة المعرض...   \n",
       "3409  1.510690e+18  الحمدله انجاز راءع شكرا الامارات الحبيبه نبارك...   \n",
       "3410  1.510690e+18  اكسبو ابرز الارقام القياسية حقها جناح السعودية...   \n",
       "\n",
       "         Timestamp  Likes  Retweets  Length      Date        Time  Class  \n",
       "3401   4/4/22 0:33     15         1     287  4/3/2022  9:33:33 PM      0  \n",
       "3402  4/3/22 23:58      0         0      88  4/3/2022  8:58:37 PM      1  \n",
       "3403  4/3/22 23:26      0         0     101  4/3/2022  8:26:59 PM      1  \n",
       "3404  4/3/22 23:07      0         0      38  4/3/2022  8:07:49 PM      1  \n",
       "3405  4/3/22 23:06      8         0     187  4/3/2022  8:06:03 PM      1  \n",
       "3406  4/3/22 23:04      0         0     273  4/3/2022  8:04:27 PM      1  \n",
       "3407  4/3/22 22:23      0         0      91  4/3/2022  7:23:32 PM      1  \n",
       "3408  4/3/22 21:38      1         0     304  4/3/2022  6:38:24 PM      1  \n",
       "3409  4/3/22 21:30      0         2     160  4/3/2022  6:30:47 PM      1  \n",
       "3410  4/3/22 21:30      0         0     100  4/3/2022  6:30:06 PM      1  "
      ]
     },
     "metadata": {},
     "output_type": "display_data"
    }
   ],
   "source": [
    "display(tweets.tail(10))"
   ]
  },
  {
   "cell_type": "code",
   "execution_count": 9,
   "metadata": {},
   "outputs": [],
   "source": [
    "X = tweets['Tweet']  # features\n",
    "y = tweets['Class'] # classes"
   ]
  },
  {
   "cell_type": "code",
   "execution_count": 10,
   "metadata": {},
   "outputs": [],
   "source": [
    "# Convert to a vector representation\n",
    "unsampled_tfidf = TfidfVectorizer() \n",
    "unsampled_X = unsampled_tfidf.fit_transform(X)"
   ]
  },
  {
   "cell_type": "code",
   "execution_count": 11,
   "metadata": {},
   "outputs": [
    {
     "data": {
      "text/plain": [
       "<3411x14747 sparse matrix of type '<class 'numpy.float64'>'\n",
       "\twith 53393 stored elements in Compressed Sparse Row format>"
      ]
     },
     "execution_count": 11,
     "metadata": {},
     "output_type": "execute_result"
    }
   ],
   "source": [
    "unsampled_X"
   ]
  },
  {
   "cell_type": "markdown",
   "metadata": {},
   "source": [
    "### Split the Data"
   ]
  },
  {
   "cell_type": "code",
   "execution_count": 12,
   "metadata": {},
   "outputs": [],
   "source": [
    "X_train_unsampled, X_test_unsampled, y_train_unsampled, y_test_unsampled = train_test_split(unsampled_X, y, test_size=0.3, random_state=27)"
   ]
  },
  {
   "cell_type": "code",
   "execution_count": 13,
   "metadata": {},
   "outputs": [
    {
     "name": "stdout",
     "output_type": "stream",
     "text": [
      "Training set has 2387 samples.\n",
      "Testing set has 1024 samples.\n"
     ]
    }
   ],
   "source": [
    "print(\"Training set has {} samples.\".format(X_train_unsampled.shape[0]))\n",
    "print(\"Testing set has {} samples.\".format(X_test_unsampled.shape[0]))"
   ]
  },
  {
   "cell_type": "code",
   "execution_count": 14,
   "metadata": {},
   "outputs": [
    {
     "data": {
      "text/plain": [
       "TfidfVectorizer()"
      ]
     },
     "execution_count": 14,
     "metadata": {},
     "output_type": "execute_result"
    }
   ],
   "source": [
    "upsampled_tfidf = TfidfVectorizer()\n",
    "upsampled_tfidf.fit(X)"
   ]
  },
  {
   "cell_type": "code",
   "execution_count": 15,
   "metadata": {},
   "outputs": [],
   "source": [
    "X_train_upsampled, X_test_upsampled, y_train_upsampled, y_test_upsampled = train_test_split(X, y, test_size=0.3, random_state=27)\n"
   ]
  },
  {
   "cell_type": "code",
   "execution_count": 16,
   "metadata": {},
   "outputs": [
    {
     "name": "stdout",
     "output_type": "stream",
     "text": [
      "Training set has 2387 samples.\n",
      "Testing set has 1024 samples.\n"
     ]
    }
   ],
   "source": [
    "print(\"Training set has {} samples.\".format(X_train_upsampled.shape[0]))\n",
    "print(\"Testing set has {} samples.\".format(X_test_upsampled.shape[0]))"
   ]
  },
  {
   "cell_type": "code",
   "execution_count": 17,
   "metadata": {},
   "outputs": [],
   "source": [
    "X_train_upsampled = upsampled_tfidf.transform(X_train_upsampled)\n",
    "X_test_upsampled = upsampled_tfidf.transform(X_test_upsampled)\n",
    "upsampled_X = upsampled_tfidf.transform(X)\n"
   ]
  },
  {
   "cell_type": "code",
   "execution_count": 18,
   "metadata": {},
   "outputs": [
    {
     "data": {
      "text/plain": [
       "<2387x14747 sparse matrix of type '<class 'numpy.float64'>'\n",
       "\twith 37175 stored elements in Compressed Sparse Row format>"
      ]
     },
     "execution_count": 18,
     "metadata": {},
     "output_type": "execute_result"
    }
   ],
   "source": [
    "X_train_upsampled"
   ]
  },
  {
   "cell_type": "code",
   "execution_count": 19,
   "metadata": {},
   "outputs": [],
   "source": [
    "ros = RandomOverSampler(random_state=27)\n",
    "\n",
    "X_train_upsampled, y_train_upsampled = ros.fit_resample(X_train_upsampled, y_train_upsampled)"
   ]
  },
  {
   "cell_type": "code",
   "execution_count": 20,
   "metadata": {},
   "outputs": [
    {
     "name": "stdout",
     "output_type": "stream",
     "text": [
      "Data before upsampling: 148 samples.\n",
      "Data before upsampling: 2239 samples.\n"
     ]
    }
   ],
   "source": [
    "print(\"Data before upsampling: {} samples.\".format(y_train_unsampled.value_counts()[0]))\n",
    "print(\"Data before upsampling: {} samples.\".format(y_train_unsampled.value_counts()[1]))"
   ]
  },
  {
   "cell_type": "code",
   "execution_count": 21,
   "metadata": {},
   "outputs": [
    {
     "name": "stdout",
     "output_type": "stream",
     "text": [
      "Data after upsampling: 2239 samples.\n",
      "Data after upsampling: 2239 samples.\n"
     ]
    }
   ],
   "source": [
    "print(\"Data after upsampling: {} samples.\".format(y_train_upsampled.value_counts()[0]))\n",
    "print(\"Data after upsampling: {} samples.\".format(y_train_upsampled.value_counts()[1]))"
   ]
  },
  {
   "cell_type": "markdown",
   "metadata": {},
   "source": [
    "### Training Pipeline\n",
    "The goal is to create a function that trains, scores and predicts any model. This will allow for efficient model selection since we can supply the function with multiple models and compare the results to select the most appropriate one.\n",
    "\n",
    "#### Function Inputs\n",
    "> model: the classifier to be trained \n",
    "> X_train y_train X_test y_test, X and y\n",
    "> \n",
    "   \n",
    "#### Function Output\n",
    "- result which is an array of the prediction time and scores respectively"
   ]
  },
  {
   "cell_type": "code",
   "execution_count": 22,
   "metadata": {},
   "outputs": [],
   "source": [
    "def train_predict_pipeline(model, X_train, y_train, X_test, y_test, X, y):\n",
    "    print(\"            {} Training            \".format(model.__class__.__name__))\n",
    "    results = {}\n",
    "\n",
    "    start = time()  # Training start\n",
    "    model = model.fit(X_train, y_train) # Train the model\n",
    "    end = time()  # Training end\n",
    "    results['training_time'] = end - start # Store the time\n",
    "\n",
    "    start = time()  # Prediction start\n",
    "    predictions_test = model.predict(X_test) # Predict\n",
    "    predictions_train = model.predict(X_train)\n",
    "    end = time()  # Prediction end\n",
    "    results['prediction_time'] = end - start # Store the time\n",
    "\n",
    "\n",
    "    results['model_accuracy'] = model.score(X_train, y_train) # Overall accuracy\n",
    "\n",
    "    # Cross validation score\n",
    "    cross_validation_scores = cross_val_score(model,X, y, cv=10)\n",
    "    results['model_cross_validation'] = np.mean(cross_validation_scores) \n",
    "\n",
    "    # Accuracy scores - for plotting\n",
    "    results['accuracy_train'] = accuracy_score(y_train, predictions_train)\n",
    "    results['accuracy_test'] = accuracy_score(y_test, predictions_test)\n",
    "\n",
    "    # F-scores\n",
    "    results['fbeta_train'] = fbeta_score(y_train, predictions_train, beta=0.5)\n",
    "    results['fbeta_test'] = fbeta_score(y_test, predictions_test, beta=0.5)\n",
    "\n",
    "    # Print the report\n",
    "    print('            Accuracy Report            ')\n",
    "    print('Model Accuracy: %.2f' % results['model_accuracy'])\n",
    "    print('10-Fold Cross Validation: %.2f' % results['model_cross_validation'])\n",
    "    print('F-beta Score (Training): %.2f' % results['fbeta_train'])\n",
    "    print('F-beta Score (Testing): %.2f' % results['fbeta_test'])\n",
    "    print('            Confusion Matrix            ')\n",
    "    print(confusion_matrix(y_test, predictions_test))\n",
    "    print(classification_report(y_test, predictions_test))\n",
    "\n",
    "    display = ConfusionMatrixDisplay.from_estimator(model, X_test, y_test, display_labels=['negative', 'positive'], cmap=plt.cm.Blues)\n",
    "    display.ax_.set_title('Confusion Matrix Display')\n",
    "    plt.show()\n",
    "\n",
    "    # Return the results and the classifier\n",
    "    return results, model\n"
   ]
  },
  {
   "cell_type": "code",
   "execution_count": 23,
   "metadata": {},
   "outputs": [],
   "source": [
    "SVC_classifier = SVC(random_state=0,probability=True)\n",
    "AdaBoost_classifier = AdaBoostClassifier(random_state=0)\n",
    "Naivebayes_classifier = MultinomialNB()"
   ]
  },
  {
   "cell_type": "code",
   "execution_count": 24,
   "metadata": {},
   "outputs": [
    {
     "name": "stdout",
     "output_type": "stream",
     "text": [
      "            SVC Training            \n",
      "            Accuracy Report            \n",
      "Model Accuracy: 0.99\n",
      "10-Fold Cross Validation: 0.94\n",
      "F-beta Score (Training): 0.99\n",
      "F-beta Score (Testing): 0.94\n",
      "            Confusion Matrix            \n",
      "[[  0  74]\n",
      " [  0 950]]\n",
      "              precision    recall  f1-score   support\n",
      "\n",
      "           0       0.00      0.00      0.00        74\n",
      "           1       0.93      1.00      0.96       950\n",
      "\n",
      "    accuracy                           0.93      1024\n",
      "   macro avg       0.46      0.50      0.48      1024\n",
      "weighted avg       0.86      0.93      0.89      1024\n",
      "\n"
     ]
    },
    {
     "name": "stderr",
     "output_type": "stream",
     "text": [
      "C:\\Users\\dalal\\AppData\\Roaming\\Python\\Python39\\site-packages\\sklearn\\metrics\\_classification.py:1318: UndefinedMetricWarning: Precision and F-score are ill-defined and being set to 0.0 in labels with no predicted samples. Use `zero_division` parameter to control this behavior.\n",
      "  _warn_prf(average, modifier, msg_start, len(result))\n",
      "C:\\Users\\dalal\\AppData\\Roaming\\Python\\Python39\\site-packages\\sklearn\\metrics\\_classification.py:1318: UndefinedMetricWarning: Precision and F-score are ill-defined and being set to 0.0 in labels with no predicted samples. Use `zero_division` parameter to control this behavior.\n",
      "  _warn_prf(average, modifier, msg_start, len(result))\n",
      "C:\\Users\\dalal\\AppData\\Roaming\\Python\\Python39\\site-packages\\sklearn\\metrics\\_classification.py:1318: UndefinedMetricWarning: Precision and F-score are ill-defined and being set to 0.0 in labels with no predicted samples. Use `zero_division` parameter to control this behavior.\n",
      "  _warn_prf(average, modifier, msg_start, len(result))\n"
     ]
    },
    {
     "data": {
      "image/png": "[encoded data removed]",
      "text/plain": [
       "<Figure size 432x288 with 2 Axes>"
      ]
     },
     "metadata": {
      "needs_background": "light"
     },
     "output_type": "display_data"
    },
    {
     "name": "stdout",
     "output_type": "stream",
     "text": [
      "            AdaBoostClassifier Training            \n",
      "            Accuracy Report            \n",
      "Model Accuracy: 0.97\n",
      "10-Fold Cross Validation: 0.94\n",
      "F-beta Score (Training): 0.97\n",
      "F-beta Score (Testing): 0.95\n",
      "            Confusion Matrix            \n",
      "[[ 16  58]\n",
      " [  9 941]]\n",
      "              precision    recall  f1-score   support\n",
      "\n",
      "           0       0.64      0.22      0.32        74\n",
      "           1       0.94      0.99      0.97       950\n",
      "\n",
      "    accuracy                           0.93      1024\n",
      "   macro avg       0.79      0.60      0.64      1024\n",
      "weighted avg       0.92      0.93      0.92      1024\n",
      "\n"
     ]
    },
    {
     "data": {
      "image/png": "[encoded data removed]",
      "text/plain": [
       "<Figure size 432x288 with 2 Axes>"
      ]
     },
     "metadata": {
      "needs_background": "light"
     },
     "output_type": "display_data"
    },
    {
     "name": "stdout",
     "output_type": "stream",
     "text": [
      "            MultinomialNB Training            \n",
      "            Accuracy Report            \n",
      "Model Accuracy: 0.94\n",
      "10-Fold Cross Validation: 0.93\n",
      "F-beta Score (Training): 0.95\n",
      "F-beta Score (Testing): 0.94\n",
      "            Confusion Matrix            \n",
      "[[  0  74]\n",
      " [  0 950]]\n",
      "              precision    recall  f1-score   support\n",
      "\n",
      "           0       0.00      0.00      0.00        74\n",
      "           1       0.93      1.00      0.96       950\n",
      "\n",
      "    accuracy                           0.93      1024\n",
      "   macro avg       0.46      0.50      0.48      1024\n",
      "weighted avg       0.86      0.93      0.89      1024\n",
      "\n"
     ]
    },
    {
     "name": "stderr",
     "output_type": "stream",
     "text": [
      "C:\\Users\\dalal\\AppData\\Roaming\\Python\\Python39\\site-packages\\sklearn\\metrics\\_classification.py:1318: UndefinedMetricWarning: Precision and F-score are ill-defined and being set to 0.0 in labels with no predicted samples. Use `zero_division` parameter to control this behavior.\n",
      "  _warn_prf(average, modifier, msg_start, len(result))\n",
      "C:\\Users\\dalal\\AppData\\Roaming\\Python\\Python39\\site-packages\\sklearn\\metrics\\_classification.py:1318: UndefinedMetricWarning: Precision and F-score are ill-defined and being set to 0.0 in labels with no predicted samples. Use `zero_division` parameter to control this behavior.\n",
      "  _warn_prf(average, modifier, msg_start, len(result))\n",
      "C:\\Users\\dalal\\AppData\\Roaming\\Python\\Python39\\site-packages\\sklearn\\metrics\\_classification.py:1318: UndefinedMetricWarning: Precision and F-score are ill-defined and being set to 0.0 in labels with no predicted samples. Use `zero_division` parameter to control this behavior.\n",
      "  _warn_prf(average, modifier, msg_start, len(result))\n"
     ]
    },
    {
     "data": {
      "image/png": "[encoded data removed]",
      "text/plain": [
       "<Figure size 432x288 with 2 Axes>"
      ]
     },
     "metadata": {
      "needs_background": "light"
     },
     "output_type": "display_data"
    }
   ],
   "source": [
    "results_raw = {}\n",
    "\n",
    "for classifier in [SVC_classifier, AdaBoost_classifier, Naivebayes_classifier]:\n",
    "    classifier_name = classifier.__class__.__name__\n",
    "    results_raw[classifier_name] = {}\n",
    "    results_raw[classifier_name], classifier = train_predict_pipeline(\n",
    "classifier, X_train_unsampled, y_train_unsampled, X_test_unsampled, y_test_unsampled, unsampled_X, y)"
   ]
  },
  {
   "cell_type": "code",
   "execution_count": 25,
   "metadata": {},
   "outputs": [],
   "source": [
    "SVC_classifier = SVC(random_state=0, probability=True)\n",
    "AdaBoost_classifier = AdaBoostClassifier(random_state=0)\n",
    "Naivebayes_classifier = MultinomialNB()"
   ]
  },
  {
   "cell_type": "code",
   "execution_count": 26,
   "metadata": {},
   "outputs": [
    {
     "name": "stdout",
     "output_type": "stream",
     "text": [
      "            SVC Training            \n",
      "            Accuracy Report            \n",
      "Model Accuracy: 1.00\n",
      "10-Fold Cross Validation: 0.94\n",
      "F-beta Score (Training): 1.00\n",
      "F-beta Score (Testing): 0.94\n",
      "            Confusion Matrix            \n",
      "[[  4  70]\n",
      " [  1 949]]\n",
      "              precision    recall  f1-score   support\n",
      "\n",
      "           0       0.80      0.05      0.10        74\n",
      "           1       0.93      1.00      0.96       950\n",
      "\n",
      "    accuracy                           0.93      1024\n",
      "   macro avg       0.87      0.53      0.53      1024\n",
      "weighted avg       0.92      0.93      0.90      1024\n",
      "\n"
     ]
    },
    {
     "data": {
      "image/png": "[encoded data removed]",
      "text/plain": [
       "<Figure size 432x288 with 2 Axes>"
      ]
     },
     "metadata": {
      "needs_background": "light"
     },
     "output_type": "display_data"
    },
    {
     "name": "stdout",
     "output_type": "stream",
     "text": [
      "            AdaBoostClassifier Training            \n",
      "            Accuracy Report            \n",
      "Model Accuracy: 0.90\n",
      "10-Fold Cross Validation: 0.94\n",
      "F-beta Score (Training): 0.93\n",
      "F-beta Score (Testing): 0.95\n",
      "            Confusion Matrix            \n",
      "[[ 53  21]\n",
      " [146 804]]\n",
      "              precision    recall  f1-score   support\n",
      "\n",
      "           0       0.27      0.72      0.39        74\n",
      "           1       0.97      0.85      0.91       950\n",
      "\n",
      "    accuracy                           0.84      1024\n",
      "   macro avg       0.62      0.78      0.65      1024\n",
      "weighted avg       0.92      0.84      0.87      1024\n",
      "\n"
     ]
    },
    {
     "data": {
      "image/png": "[encoded data removed]",
      "text/plain": [
       "<Figure size 432x288 with 2 Axes>"
      ]
     },
     "metadata": {
      "needs_background": "light"
     },
     "output_type": "display_data"
    },
    {
     "name": "stdout",
     "output_type": "stream",
     "text": [
      "            MultinomialNB Training            \n",
      "            Accuracy Report            \n",
      "Model Accuracy: 0.99\n",
      "10-Fold Cross Validation: 0.93\n",
      "F-beta Score (Training): 1.00\n",
      "F-beta Score (Testing): 0.97\n",
      "            Confusion Matrix            \n",
      "[[ 53  21]\n",
      " [ 61 889]]\n",
      "              precision    recall  f1-score   support\n",
      "\n",
      "           0       0.46      0.72      0.56        74\n",
      "           1       0.98      0.94      0.96       950\n",
      "\n",
      "    accuracy                           0.92      1024\n",
      "   macro avg       0.72      0.83      0.76      1024\n",
      "weighted avg       0.94      0.92      0.93      1024\n",
      "\n"
     ]
    },
    {
     "data": {
      "image/png": "[encoded data removed]",
      "text/plain": [
       "<Figure size 432x288 with 2 Axes>"
      ]
     },
     "metadata": {
      "needs_background": "light"
     },
     "output_type": "display_data"
    }
   ],
   "source": [
    "results = {}\n",
    "\n",
    "for classifier in [SVC_classifier, AdaBoost_classifier, Naivebayes_classifier]:\n",
    "    classifier_name = classifier.__class__.__name__\n",
    "    results[classifier_name] = {}\n",
    "    results[classifier_name], classifier = train_predict_pipeline(\n",
    "        classifier, X_train_upsampled, y_train_upsampled, X_test_upsampled, y_test_upsampled, upsampled_X, y)\n"
   ]
  },
  {
   "cell_type": "markdown",
   "metadata": {},
   "source": [
    "### Model Evaluation"
   ]
  },
  {
   "cell_type": "code",
   "execution_count": 27,
   "metadata": {},
   "outputs": [
    {
     "data": {
      "text/plain": [
       "{'SVC': {'training_time': 8.114627122879028,\n",
       "  'prediction_time': 1.6106765270233154,\n",
       "  'model_accuracy': 0.9997766860205449,\n",
       "  'model_cross_validation': 0.9355035928041021,\n",
       "  'accuracy_train': 0.9997766860205449,\n",
       "  'accuracy_test': 0.9306640625,\n",
       "  'fbeta_train': 0.9999106424805648,\n",
       "  'fbeta_test': 0.944090728213291},\n",
       " 'AdaBoostClassifier': {'training_time': 1.6581687927246094,\n",
       "  'prediction_time': 0.05252575874328613,\n",
       "  'model_accuracy': 0.9035283608753908,\n",
       "  'model_cross_validation': 0.9355053077463943,\n",
       "  'accuracy_train': 0.9035283608753908,\n",
       "  'accuracy_test': 0.8369140625,\n",
       "  'fbeta_train': 0.9335114277233599,\n",
       "  'fbeta_test': 0.9458823529411764},\n",
       " 'MultinomialNB': {'training_time': 0.010069847106933594,\n",
       "  'prediction_time': 0.0,\n",
       "  'model_accuracy': 0.9915140687807057,\n",
       "  'model_cross_validation': 0.9349170825401725,\n",
       "  'accuracy_train': 0.9915140687807057,\n",
       "  'accuracy_test': 0.919921875,\n",
       "  'fbeta_train': 0.9965589060943584,\n",
       "  'fbeta_test': 0.9684095860566448}}"
      ]
     },
     "execution_count": 27,
     "metadata": {},
     "output_type": "execute_result"
    }
   ],
   "source": [
    "results"
   ]
  },
  {
   "cell_type": "code",
   "execution_count": 28,
   "metadata": {},
   "outputs": [],
   "source": [
    "def evaluate(results, accuracy, f1):\n",
    "    \"\"\"\n",
    "    Visualization code to display results of various learners.\n",
    "\n",
    "    inputs:\n",
    "      - learners: a list of supervised learners\n",
    "      - stats: a list of dictionaries of the statistic results from 'train_predict()'\n",
    "      - accuracy: The score for the naive predictor\n",
    "      - f1: The score for the naive predictor\n",
    "    \"\"\"\n",
    "\n",
    "    # Create figure\n",
    "    fig, ax = plt.subplots(2, 3, figsize=(15, 10))\n",
    "\n",
    " # Constants\n",
    "    bar_width = 0.3\n",
    "    colors = ['#083471', '#1F6EB3', '#56A0CE']\n",
    "\n",
    "    for k, learner in enumerate(results.keys()):\n",
    "        for j, metric in enumerate(['training_time', 'accuracy_train', 'fbeta_train', 'prediction_time', 'accuracy_test', 'fbeta_test']):\n",
    "            ax[j//3, j % 3].bar(k*bar_width, results[learner]\n",
    "                                [metric], width=bar_width, color=colors[k])\n",
    "\n",
    "    # Add unique y-labels\n",
    "    ax[0, 0].set_ylabel(\"Time (in seconds)\")\n",
    "    ax[0, 1].set_ylabel(\"Accuracy Score\")\n",
    "    ax[0, 2].set_ylabel(\"F-score\")\n",
    "    ax[1, 0].set_ylabel(\"Time (in seconds)\")\n",
    "    ax[1, 1].set_ylabel(\"Accuracy Score\")\n",
    "    ax[1, 2].set_ylabel(\"Fbeta-score\")\n",
    "\n",
    "    # Add titles\n",
    "    ax[0, 0].set_title(\"Model Training\")\n",
    "    ax[0, 1].set_title(\"Accuracy Score on Training Subset\")\n",
    "    ax[0, 2].set_title(\"F-score on Training Subset\")\n",
    "    ax[1, 0].set_title(\"Model Predicting\")\n",
    "    ax[1, 1].set_title(\"Accuracy Score on Testing Set\")\n",
    "    ax[1, 2].set_title(\"Fbeta-score on Testing Set\")\n",
    "\n",
    "    # Add horizontal lines for naive predictors\n",
    "    ax[0, 1].axhline(y=accuracy, xmin=-0.1, xmax=3.0,\n",
    "                     linewidth=1, color='k', linestyle='dashed')\n",
    "    ax[1, 1].axhline(y=accuracy, xmin=-0.1, xmax=3.0,\n",
    "                     linewidth=1, color='k', linestyle='dashed')\n",
    "    ax[0, 2].axhline(y=f1, xmin=-0.1, xmax=3.0, linewidth=1,\n",
    "                     color='k', linestyle='dashed')\n",
    "    ax[1, 2].axhline(y=f1, xmin=-0.1, xmax=3.0, linewidth=1,\n",
    "                     color='k', linestyle='dashed')\n",
    "\n",
    "    # Set y-limits for score panels\n",
    "    ax[0, 1].set_ylim((0, 1))\n",
    "    ax[0, 2].set_ylim((0, 1))\n",
    "    ax[1, 1].set_ylim((0, 1))\n",
    "    ax[1, 2].set_ylim((0, 1))\n",
    "\n",
    "    # Create patches for the legend\n",
    "    patches = []\n",
    "    for i, learner in enumerate(results.keys()):\n",
    "        patches.append(mpatches.Patch(color=colors[i], label=learner))\n",
    "    plt.legend(handles=patches, bbox_to_anchor=(-.80, 2.53),\n",
    "               loc='upper center', borderaxespad=0., ncol=3, fontsize='x-large')\n",
    "\n",
    "    # Aesthetics\n",
    "    plt.suptitle(\n",
    "        \"Performance Metrics for Three Supervised Learning Models\", fontsize=16, y=1.10)\n",
    "    plt.show()\n"
   ]
  },
  {
   "cell_type": "code",
   "execution_count": 29,
   "metadata": {},
   "outputs": [
    {
     "data": {
      "image/png": "[encoded data removed]",
      "text/plain": [
       "<Figure size 1080x720 with 6 Axes>"
      ]
     },
     "metadata": {
      "needs_background": "light"
     },
     "output_type": "display_data"
    }
   ],
   "source": [
    "evaluate(results, 0.5, 0.5)\n"
   ]
  },
  {
   "cell_type": "code",
   "execution_count": 30,
   "metadata": {},
   "outputs": [
    {
     "name": "stderr",
     "output_type": "stream",
     "text": [
      "C:\\Users\\dalal\\AppData\\Roaming\\Python\\Python39\\site-packages\\sklearn\\utils\\deprecation.py:87: FutureWarning: Function plot_roc_curve is deprecated; Function :func:`plot_roc_curve` is deprecated in 1.0 and will be removed in 1.2. Use one of the class methods: :meth:`sklearn.metric.RocCurveDisplay.from_predictions` or :meth:`sklearn.metric.RocCurveDisplay.from_estimator`.\n",
      "  warnings.warn(msg, category=FutureWarning)\n",
      "C:\\Users\\dalal\\AppData\\Roaming\\Python\\Python39\\site-packages\\sklearn\\utils\\deprecation.py:87: FutureWarning: Function plot_roc_curve is deprecated; Function :func:`plot_roc_curve` is deprecated in 1.0 and will be removed in 1.2. Use one of the class methods: :meth:`sklearn.metric.RocCurveDisplay.from_predictions` or :meth:`sklearn.metric.RocCurveDisplay.from_estimator`.\n",
      "  warnings.warn(msg, category=FutureWarning)\n",
      "C:\\Users\\dalal\\AppData\\Roaming\\Python\\Python39\\site-packages\\sklearn\\utils\\deprecation.py:87: FutureWarning: Function plot_roc_curve is deprecated; Function :func:`plot_roc_curve` is deprecated in 1.0 and will be removed in 1.2. Use one of the class methods: :meth:`sklearn.metric.RocCurveDisplay.from_predictions` or :meth:`sklearn.metric.RocCurveDisplay.from_estimator`.\n",
      "  warnings.warn(msg, category=FutureWarning)\n"
     ]
    },
    {
     "data": {
      "image/png": "[encoded data removed]",
      "text/plain": [
       "<Figure size 432x288 with 1 Axes>"
      ]
     },
     "metadata": {
      "needs_background": "light"
     },
     "output_type": "display_data"
    }
   ],
   "source": [
    "svc_display = plot_roc_curve(SVC_classifier, X_test_upsampled, y_test_upsampled)\n",
    "ada_display = plot_roc_curve(AdaBoost_classifier, X_test_upsampled, y_test_upsampled, ax=svc_display.ax_)\n",
    "naive_display = plot_roc_curve(Naivebayes_classifier, X_test_upsampled, y_test_upsampled, ax=ada_display.ax_)\n",
    "naive_display.figure_.suptitle(\"ROC curve comparison\")\n",
    "\n",
    "with warnings.catch_warnings():\n",
    "    warnings.simplefilter(\"ignore\")\n",
    "\n",
    "plt.show()\n"
   ]
  },
  {
   "cell_type": "markdown",
   "metadata": {},
   "source": [
    "### Fine Tuning"
   ]
  },
  {
   "cell_type": "code",
   "execution_count": 31,
   "metadata": {},
   "outputs": [],
   "source": [
    "parameters = {'C': [0.1, 1, 1.1, 2, 10, 100],\n",
    "              'kernel': ['linear']}"
   ]
  },
  {
   "cell_type": "code",
   "execution_count": 32,
   "metadata": {},
   "outputs": [],
   "source": [
    "scorer = make_scorer(fbeta_score, beta=0.5)\n",
    "grid = GridSearchCV(SVC(random_state=0), param_grid=parameters, scoring=scorer, refit=True, cv=10, verbose=3)"
   ]
  },
  {
   "cell_type": "code",
   "execution_count": 33,
   "metadata": {},
   "outputs": [
    {
     "name": "stdout",
     "output_type": "stream",
     "text": [
      "Fitting 10 folds for each of 6 candidates, totalling 60 fits\n",
      "[CV 1/10] END .............C=0.1, kernel=linear;, score=0.990 total time=   1.6s\n",
      "[CV 2/10] END .............C=0.1, kernel=linear;, score=0.999 total time=   1.6s\n",
      "[CV 3/10] END .............C=0.1, kernel=linear;, score=0.996 total time=   1.7s\n",
      "[CV 4/10] END .............C=0.1, kernel=linear;, score=0.998 total time=   1.6s\n",
      "[CV 5/10] END .............C=0.1, kernel=linear;, score=0.986 total time=   1.6s\n",
      "[CV 6/10] END .............C=0.1, kernel=linear;, score=0.992 total time=   1.7s\n",
      "[CV 7/10] END .............C=0.1, kernel=linear;, score=0.993 total time=   1.7s\n",
      "[CV 8/10] END .............C=0.1, kernel=linear;, score=0.995 total time=   1.6s\n",
      "[CV 9/10] END .............C=0.1, kernel=linear;, score=0.989 total time=   1.6s\n",
      "[CV 10/10] END ............C=0.1, kernel=linear;, score=0.979 total time=   1.5s\n",
      "[CV 1/10] END ...............C=1, kernel=linear;, score=0.997 total time=   0.6s\n",
      "[CV 2/10] END ...............C=1, kernel=linear;, score=1.000 total time=   0.6s\n",
      "[CV 3/10] END ...............C=1, kernel=linear;, score=0.998 total time=   0.6s\n",
      "[CV 4/10] END ...............C=1, kernel=linear;, score=1.000 total time=   0.6s\n",
      "[CV 5/10] END ...............C=1, kernel=linear;, score=1.000 total time=   0.6s\n",
      "[CV 6/10] END ...............C=1, kernel=linear;, score=0.999 total time=   0.6s\n",
      "[CV 7/10] END ...............C=1, kernel=linear;, score=1.000 total time=   0.6s\n",
      "[CV 8/10] END ...............C=1, kernel=linear;, score=1.000 total time=   0.6s\n",
      "[CV 9/10] END ...............C=1, kernel=linear;, score=1.000 total time=   0.6s\n",
      "[CV 10/10] END ..............C=1, kernel=linear;, score=0.999 total time=   0.6s\n",
      "[CV 1/10] END .............C=1.1, kernel=linear;, score=0.997 total time=   0.6s\n",
      "[CV 2/10] END .............C=1.1, kernel=linear;, score=1.000 total time=   0.6s\n",
      "[CV 3/10] END .............C=1.1, kernel=linear;, score=0.998 total time=   0.6s\n",
      "[CV 4/10] END .............C=1.1, kernel=linear;, score=1.000 total time=   0.6s\n",
      "[CV 5/10] END .............C=1.1, kernel=linear;, score=1.000 total time=   0.6s\n",
      "[CV 6/10] END .............C=1.1, kernel=linear;, score=0.999 total time=   0.6s\n",
      "[CV 7/10] END .............C=1.1, kernel=linear;, score=1.000 total time=   0.6s\n",
      "[CV 8/10] END .............C=1.1, kernel=linear;, score=1.000 total time=   0.6s\n",
      "[CV 9/10] END .............C=1.1, kernel=linear;, score=1.000 total time=   0.6s\n",
      "[CV 10/10] END ............C=1.1, kernel=linear;, score=0.999 total time=   0.7s\n",
      "[CV 1/10] END ...............C=2, kernel=linear;, score=0.997 total time=   0.5s\n",
      "[CV 2/10] END ...............C=2, kernel=linear;, score=1.000 total time=   0.6s\n",
      "[CV 3/10] END ...............C=2, kernel=linear;, score=0.998 total time=   0.6s\n",
      "[CV 4/10] END ...............C=2, kernel=linear;, score=1.000 total time=   0.5s\n",
      "[CV 5/10] END ...............C=2, kernel=linear;, score=1.000 total time=   0.5s\n",
      "[CV 6/10] END ...............C=2, kernel=linear;, score=0.999 total time=   0.5s\n",
      "[CV 7/10] END ...............C=2, kernel=linear;, score=1.000 total time=   0.5s\n",
      "[CV 8/10] END ...............C=2, kernel=linear;, score=1.000 total time=   0.6s\n",
      "[CV 9/10] END ...............C=2, kernel=linear;, score=1.000 total time=   0.5s\n",
      "[CV 10/10] END ..............C=2, kernel=linear;, score=0.999 total time=   0.5s\n",
      "[CV 1/10] END ..............C=10, kernel=linear;, score=0.997 total time=   0.5s\n",
      "[CV 2/10] END ..............C=10, kernel=linear;, score=1.000 total time=   0.5s\n",
      "[CV 3/10] END ..............C=10, kernel=linear;, score=0.998 total time=   0.5s\n",
      "[CV 4/10] END ..............C=10, kernel=linear;, score=1.000 total time=   0.5s\n",
      "[CV 5/10] END ..............C=10, kernel=linear;, score=1.000 total time=   0.5s\n",
      "[CV 6/10] END ..............C=10, kernel=linear;, score=0.999 total time=   0.5s\n",
      "[CV 7/10] END ..............C=10, kernel=linear;, score=1.000 total time=   0.5s\n",
      "[CV 8/10] END ..............C=10, kernel=linear;, score=1.000 total time=   0.5s\n",
      "[CV 9/10] END ..............C=10, kernel=linear;, score=1.000 total time=   0.5s\n",
      "[CV 10/10] END .............C=10, kernel=linear;, score=0.999 total time=   0.5s\n",
      "[CV 1/10] END .............C=100, kernel=linear;, score=0.997 total time=   0.5s\n",
      "[CV 2/10] END .............C=100, kernel=linear;, score=1.000 total time=   0.5s\n",
      "[CV 3/10] END .............C=100, kernel=linear;, score=0.998 total time=   0.5s\n",
      "[CV 4/10] END .............C=100, kernel=linear;, score=1.000 total time=   0.5s\n",
      "[CV 5/10] END .............C=100, kernel=linear;, score=1.000 total time=   0.5s\n",
      "[CV 6/10] END .............C=100, kernel=linear;, score=0.999 total time=   0.5s\n",
      "[CV 7/10] END .............C=100, kernel=linear;, score=1.000 total time=   0.5s\n",
      "[CV 8/10] END .............C=100, kernel=linear;, score=1.000 total time=   0.5s\n",
      "[CV 9/10] END .............C=100, kernel=linear;, score=1.000 total time=   0.5s\n",
      "[CV 10/10] END ............C=100, kernel=linear;, score=0.999 total time=   0.5s\n"
     ]
    }
   ],
   "source": [
    "gridSVC = grid.fit(X_train_upsampled, y_train_upsampled)"
   ]
  },
  {
   "cell_type": "code",
   "execution_count": 34,
   "metadata": {},
   "outputs": [
    {
     "data": {
      "text/plain": [
       "SVC(C=1, kernel='linear', random_state=0)"
      ]
     },
     "execution_count": 34,
     "metadata": {},
     "output_type": "execute_result"
    }
   ],
   "source": [
    "gridSVC.best_estimator_"
   ]
  },
  {
   "cell_type": "code",
   "execution_count": 35,
   "metadata": {},
   "outputs": [
    {
     "data": {
      "text/plain": [
       "0.9306640625"
      ]
     },
     "execution_count": 35,
     "metadata": {},
     "output_type": "execute_result"
    }
   ],
   "source": [
    "# Original SVC accuracy\n",
    "results['SVC']['accuracy_test']"
   ]
  },
  {
   "cell_type": "code",
   "execution_count": 36,
   "metadata": {},
   "outputs": [
    {
     "data": {
      "text/plain": [
       "0.944090728213291"
      ]
     },
     "execution_count": 36,
     "metadata": {},
     "output_type": "execute_result"
    }
   ],
   "source": [
    "# Original SVC fbeta score\n",
    "results['SVC']['fbeta_test']"
   ]
  },
  {
   "cell_type": "code",
   "execution_count": 37,
   "metadata": {},
   "outputs": [
    {
     "data": {
      "text/plain": [
       "0.939453125"
      ]
     },
     "execution_count": 37,
     "metadata": {},
     "output_type": "execute_result"
    }
   ],
   "source": [
    "# Fine tuned SVC accuracy\n",
    "accuracy_score(y_test_upsampled, gridSVC.predict(X_test_upsampled))"
   ]
  },
  {
   "cell_type": "code",
   "execution_count": 38,
   "metadata": {},
   "outputs": [
    {
     "data": {
      "text/plain": [
       "0.9519501407318053"
      ]
     },
     "execution_count": 38,
     "metadata": {},
     "output_type": "execute_result"
    }
   ],
   "source": [
    "# Fine tuned SVC fbeta score\n",
    "fbeta_score(y_test_upsampled, gridSVC.predict(X_test_upsampled), beta=0.5)"
   ]
  },
  {
   "cell_type": "code",
   "execution_count": 39,
   "metadata": {},
   "outputs": [
    {
     "name": "stdout",
     "output_type": "stream",
     "text": [
      "            SVC Training            \n",
      "            Accuracy Report            \n",
      "Model Accuracy: 1.00\n",
      "10-Fold Cross Validation: 0.94\n",
      "F-beta Score (Training): 1.00\n",
      "F-beta Score (Testing): 0.95\n",
      "            Confusion Matrix            \n",
      "[[ 15  59]\n",
      " [  3 947]]\n",
      "              precision    recall  f1-score   support\n",
      "\n",
      "           0       0.83      0.20      0.33        74\n",
      "           1       0.94      1.00      0.97       950\n",
      "\n",
      "    accuracy                           0.94      1024\n",
      "   macro avg       0.89      0.60      0.65      1024\n",
      "weighted avg       0.93      0.94      0.92      1024\n",
      "\n"
     ]
    },
    {
     "data": {
      "image/png": "[encoded data removed]",
      "text/plain": [
       "<Figure size 432x288 with 2 Axes>"
      ]
     },
     "metadata": {
      "needs_background": "light"
     },
     "output_type": "display_data"
    },
    {
     "data": {
      "text/plain": [
       "({'training_time': 0.6990411281585693,\n",
       "  'prediction_time': 0.850391149520874,\n",
       "  'model_accuracy': 0.9993300580616347,\n",
       "  'model_cross_validation': 0.943413764126837,\n",
       "  'accuracy_train': 0.9993300580616347,\n",
       "  'accuracy_test': 0.939453125,\n",
       "  'fbeta_train': 0.9997317356702137,\n",
       "  'fbeta_test': 0.9519501407318053},\n",
       " SVC(C=1, kernel='linear', random_state=0))"
      ]
     },
     "execution_count": 39,
     "metadata": {},
     "output_type": "execute_result"
    }
   ],
   "source": [
    "train_predict_pipeline(SVC(C=1, kernel='linear', random_state=0), X_train_upsampled, y_train_upsampled, X_test_upsampled, y_test_upsampled, upsampled_X, y)\n"
   ]
  }
 ],
 "metadata": {
  "interpreter": {
   "hash": "ac59ebe37160ed0dfa835113d9b8498d9f09ceb179beaac4002f036b9467c963"
  },
  "kernelspec": {
   "display_name": "Python 3.9.7 64-bit",
   "language": "python",
   "name": "python3"
  },
  "language_info": {
   "codemirror_mode": {
    "name": "ipython",
    "version": 3
   },
   "file_extension": ".py",
   "mimetype": "text/x-python",
   "name": "python",
   "nbconvert_exporter": "python",
   "pygments_lexer": "ipython3",
   "version": "3.9.7"
  },
  "orig_nbformat": 4
 },
 "nbformat": 4,
 "nbformat_minor": 2
}
