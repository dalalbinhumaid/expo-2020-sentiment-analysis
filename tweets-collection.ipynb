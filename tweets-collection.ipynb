{
 "cells": [
  {
   "cell_type": "markdown",
   "metadata": {},
   "source": []
  },
  {
   "cell_type": "code",
   "execution_count": 1,
   "metadata": {},
   "outputs": [],
   "source": [
    "import tweepy\n",
    "import pandas as pd\n",
    "import numpy as np\n",
    "import configparser\n",
    "import matplotlib.pyplot as plt\n",
    "import random"
   ]
  },
  {
   "cell_type": "markdown",
   "metadata": {},
   "source": [
    "### 1. Configuration and Authentication \n",
    "---\n",
    "This is the setup part and API authentication. Prior to using the API it is necessary to create a developer account, the account grants you two levels of access. A user level and an application/project level. I will be using **configparser** to ensure my API keys are not visible. I suggest you do the same. The following is how to set up the configuration process.\n",
    "\n",
    "\n",
    "1.  create a project from the developer's portal\n",
    "2.  generate your API and access keys\n",
    "3.  save them in a 'config.ini' file in the following format:\n",
    "   \n",
    "    ``` ini\n",
    "    [twitter]\n",
    "    CONSUMER_KEY = 'YOUR CONSUMER KEY'\n",
    "    CONSUMER_SECRET = 'YOUR CONSUMER SECRET'\n",
    "    ACCESS_TOKEN = 'YOUR ACCESS TOKEN'\n",
    "    ACCESS_TOKEN_SECRET = 'YOUR ACCESS TOKEN SECRET' \n",
    "    ```\n",
    "   \n",
    "4. install configparser by running  `pip install configparser`\n",
    "\n",
    "> **Note:** If you don't plan on using the config parser make sure you remove the import and change the next cell accordingly. To eliminate any errors. Make sure you adhere to the same variable names!"
   ]
  },
  {
   "cell_type": "code",
   "execution_count": 2,
   "metadata": {},
   "outputs": [],
   "source": [
    "# read the file from 'config.ini' \n",
    "config = configparser.ConfigParser()\n",
    "config.read('config.ini')\n",
    "\n",
    "# API Variables\n",
    "CONSUMER_KEY = config['twitter']['CONSUMER_KEY']\n",
    "CONSUMER_SECRET = config['twitter']['CONSUMER_SECRET']\n",
    "ACCESS_TOKEN = config['twitter']['ACCESS_TOKEN']\n",
    "ACCESS_TOKEN_SECRET = config['twitter']['ACCESS_TOKEN_SECRET']"
   ]
  },
  {
   "cell_type": "code",
   "execution_count": 3,
   "metadata": {},
   "outputs": [],
   "source": [
    "# authenticate using tweepy\n",
    "def twitter_setup():\n",
    "    auth = tweepy.OAuth1UserHandler(CONSUMER_KEY, CONSUMER_SECRET)  # project access\n",
    "    auth.set_access_token(ACCESS_TOKEN, ACCESS_TOKEN_SECRET)  # user access\n",
    "\n",
    "    api = tweepy.API(auth = auth)\n",
    "    return api\n",
    "\n",
    "extractor = twitter_setup() "
   ]
  },
  {
   "cell_type": "markdown",
   "metadata": {},
   "source": [
    "### 2. Data Collection\n",
    "---\n",
    "After setting up the credentials and authenticating the project. I can start extracting data using **tweepy's** API. The aim is to search different terms and different hashtags in order to collect as much entries as the API allows for. There are many limitations since I have the `Elevated Access`. The main ones is that the search API only allows search to go back 7 days. One way this was managed was starting the project early. However, the ideal goal is to be able to search the entire archive. Nonetheless, the project aims to measure the opinion at the current time. Therefore, the regular search will suffice!\n",
    "\n",
    "I have created a function that when called extracts tweets depending on a local list. This list can have as many search queires as anyone would like. Also, The function parses the needed information and stores it in a data frame. Upon each iteration it appends to the previous data frame. This is beneficial when storing the data in .csv files."
   ]
  },
  {
   "cell_type": "code",
   "execution_count": 4,
   "metadata": {},
   "outputs": [],
   "source": [
    "def extract_tweets():\n",
    "    tweets = []  # main data frame\n",
    "    data = [] # temporary data frame\n",
    "    columns_header = ['ID', 'Tweet', 'Timestamp', 'Likes', 'Retweets', 'Length']\n",
    "    search_terms = ['@expo2020dubai -filter:retweets',\n",
    "                    '#expo2020 -filter:retweets',\n",
    "                    '#اكسبو -filter:retweets',\n",
    "                    'اكسبو دبي -filter:retweets']  # search terms\n",
    "\n",
    "    # fetch the tweets once prior to the iteration to append things correctly\n",
    "    collected_tweets = tweepy.Cursor(extractor.search_tweets, q='expo dubai -filter:retweets', lang='ar', tweet_mode='extended').items(600)\n",
    "\n",
    "    for tweet in collected_tweets:\n",
    "        data.append([tweet.id, tweet.full_text, tweet.created_at,tweet.favorite_count, tweet.retweet_count, len(tweet.full_text)])\n",
    "\n",
    "    tweets = pd.DataFrame(data=data, columns=columns_header) # store in original data frame\n",
    "\n",
    "    for term in search_terms:\n",
    "        data = []\n",
    "        collected_tweets = tweepy.Cursor(extractor.search_tweets, q=term, lang='ar', tweet_mode='extended').items(600)\n",
    "\n",
    "        for tweet in collected_tweets:\n",
    "            data.append([tweet.id, tweet.full_text, tweet.created_at, tweet.favorite_count, tweet.retweet_count, len(tweet.full_text)])\n",
    "\n",
    "        df = pd.DataFrame(data=data, columns=columns_header)\n",
    "        frames = [tweets, df]  \n",
    "        tweets = pd.concat(frames) # append the data frame to the previous one\n",
    "\n",
    "    # since we are appending data frames the index value changes each time\n",
    "    # here the goal is to create a new index that is incremented by one \n",
    "    tweets.insert(0, 'index', range(0, len(tweets))) \n",
    "    tweets = tweets.set_index('index')\n",
    "\n",
    "    # random number to ensure files don't get overwritten\n",
    "    tweets.to_csv('Tweets\\\\tweets155.csv')\n",
    "    \n",
    "    return tweets"
   ]
  },
  {
   "cell_type": "code",
   "execution_count": 5,
   "metadata": {},
   "outputs": [],
   "source": [
    "tweets = extract_tweets()"
   ]
  },
  {
   "cell_type": "markdown",
   "metadata": {},
   "source": [
    "### 3. Preliminary Data Exploration"
   ]
  },
  {
   "cell_type": "code",
   "execution_count": 6,
   "metadata": {},
   "outputs": [
    {
     "data": {
      "text/html": [
       "<div>\n",
       "<style scoped>\n",
       "    .dataframe tbody tr th:only-of-type {\n",
       "        vertical-align: middle;\n",
       "    }\n",
       "\n",
       "    .dataframe tbody tr th {\n",
       "        vertical-align: top;\n",
       "    }\n",
       "\n",
       "    .dataframe thead th {\n",
       "        text-align: right;\n",
       "    }\n",
       "</style>\n",
       "<table border=\"1\" class=\"dataframe\">\n",
       "  <thead>\n",
       "    <tr style=\"text-align: right;\">\n",
       "      <th></th>\n",
       "      <th>ID</th>\n",
       "      <th>Tweet</th>\n",
       "      <th>Timestamp</th>\n",
       "      <th>Likes</th>\n",
       "      <th>Retweets</th>\n",
       "      <th>Length</th>\n",
       "    </tr>\n",
       "    <tr>\n",
       "      <th>index</th>\n",
       "      <th></th>\n",
       "      <th></th>\n",
       "      <th></th>\n",
       "      <th></th>\n",
       "      <th></th>\n",
       "      <th></th>\n",
       "    </tr>\n",
       "  </thead>\n",
       "  <tbody>\n",
       "    <tr>\n",
       "      <th>0</th>\n",
       "      <td>1515012076397371392</td>\n",
       "      <td>غرفة تجارة دبي تكشف أن 76.5% من شركات القطاع ا...</td>\n",
       "      <td>2022-04-15 17:00:01+00:00</td>\n",
       "      <td>1</td>\n",
       "      <td>2</td>\n",
       "      <td>206</td>\n",
       "    </tr>\n",
       "    <tr>\n",
       "      <th>1</th>\n",
       "      <td>1514974893149986823</td>\n",
       "      <td>في شهر فبراير 2022.\\nالمدير التنفيذي للميلان إ...</td>\n",
       "      <td>2022-04-15 14:32:16+00:00</td>\n",
       "      <td>28</td>\n",
       "      <td>0</td>\n",
       "      <td>302</td>\n",
       "    </tr>\n",
       "    <tr>\n",
       "      <th>2</th>\n",
       "      <td>1514923695294324739</td>\n",
       "      <td>@jihadebenalluch و ها قد نسيتي انك ذهبتي للمؤت...</td>\n",
       "      <td>2022-04-15 11:08:49+00:00</td>\n",
       "      <td>1</td>\n",
       "      <td>0</td>\n",
       "      <td>131</td>\n",
       "    </tr>\n",
       "    <tr>\n",
       "      <th>3</th>\n",
       "      <td>1514861082552193029</td>\n",
       "      <td>بات #إكسبو2020 دبي تجربة لا تنسى لسكان دولة #ا...</td>\n",
       "      <td>2022-04-15 07:00:01+00:00</td>\n",
       "      <td>1</td>\n",
       "      <td>0</td>\n",
       "      <td>212</td>\n",
       "    </tr>\n",
       "    <tr>\n",
       "      <th>4</th>\n",
       "      <td>1514564741552869376</td>\n",
       "      <td>Saudi Arabia’s pavilion at Expo 2020 Dubai: a ...</td>\n",
       "      <td>2022-04-14 11:22:28+00:00</td>\n",
       "      <td>1</td>\n",
       "      <td>0</td>\n",
       "      <td>276</td>\n",
       "    </tr>\n",
       "  </tbody>\n",
       "</table>\n",
       "</div>"
      ],
      "text/plain": [
       "                        ID                                              Tweet  \\\n",
       "index                                                                           \n",
       "0      1515012076397371392  غرفة تجارة دبي تكشف أن 76.5% من شركات القطاع ا...   \n",
       "1      1514974893149986823  في شهر فبراير 2022.\\nالمدير التنفيذي للميلان إ...   \n",
       "2      1514923695294324739  @jihadebenalluch و ها قد نسيتي انك ذهبتي للمؤت...   \n",
       "3      1514861082552193029  بات #إكسبو2020 دبي تجربة لا تنسى لسكان دولة #ا...   \n",
       "4      1514564741552869376  Saudi Arabia’s pavilion at Expo 2020 Dubai: a ...   \n",
       "\n",
       "                      Timestamp  Likes  Retweets  Length  \n",
       "index                                                     \n",
       "0     2022-04-15 17:00:01+00:00      1         2     206  \n",
       "1     2022-04-15 14:32:16+00:00     28         0     302  \n",
       "2     2022-04-15 11:08:49+00:00      1         0     131  \n",
       "3     2022-04-15 07:00:01+00:00      1         0     212  \n",
       "4     2022-04-14 11:22:28+00:00      1         0     276  "
      ]
     },
     "metadata": {},
     "output_type": "display_data"
    },
    {
     "data": {
      "text/html": [
       "<div>\n",
       "<style scoped>\n",
       "    .dataframe tbody tr th:only-of-type {\n",
       "        vertical-align: middle;\n",
       "    }\n",
       "\n",
       "    .dataframe tbody tr th {\n",
       "        vertical-align: top;\n",
       "    }\n",
       "\n",
       "    .dataframe thead th {\n",
       "        text-align: right;\n",
       "    }\n",
       "</style>\n",
       "<table border=\"1\" class=\"dataframe\">\n",
       "  <thead>\n",
       "    <tr style=\"text-align: right;\">\n",
       "      <th></th>\n",
       "      <th>ID</th>\n",
       "      <th>Tweet</th>\n",
       "      <th>Timestamp</th>\n",
       "      <th>Likes</th>\n",
       "      <th>Retweets</th>\n",
       "      <th>Length</th>\n",
       "    </tr>\n",
       "    <tr>\n",
       "      <th>index</th>\n",
       "      <th></th>\n",
       "      <th></th>\n",
       "      <th></th>\n",
       "      <th></th>\n",
       "      <th></th>\n",
       "      <th></th>\n",
       "    </tr>\n",
       "  </thead>\n",
       "  <tbody>\n",
       "    <tr>\n",
       "      <th>701</th>\n",
       "      <td>1514627428492230663</td>\n",
       "      <td>@Forsan_UAE 192 دولة.\\n.\\n#إكسبو_2020_دبي \\n.\\...</td>\n",
       "      <td>2022-04-14 15:31:34+00:00</td>\n",
       "      <td>0</td>\n",
       "      <td>0</td>\n",
       "      <td>48</td>\n",
       "    </tr>\n",
       "    <tr>\n",
       "      <th>702</th>\n",
       "      <td>1514627394421854229</td>\n",
       "      <td>@Forsan_UAE 192دوله \\n\\n#اكسبو_2020_دبي</td>\n",
       "      <td>2022-04-14 15:31:25+00:00</td>\n",
       "      <td>0</td>\n",
       "      <td>0</td>\n",
       "      <td>37</td>\n",
       "    </tr>\n",
       "    <tr>\n",
       "      <th>703</th>\n",
       "      <td>1514627371252555777</td>\n",
       "      <td>@Forsan_UAE 192 دولة.\\n.\\n#إكسبو_2020_دبي \\n.\\...</td>\n",
       "      <td>2022-04-14 15:31:20+00:00</td>\n",
       "      <td>0</td>\n",
       "      <td>0</td>\n",
       "      <td>48</td>\n",
       "    </tr>\n",
       "    <tr>\n",
       "      <th>704</th>\n",
       "      <td>1514627119351054341</td>\n",
       "      <td>@Forsan_UAE 192 دولة.\\n.\\n#إكسبو_2020_دبي \\n.\\...</td>\n",
       "      <td>2022-04-14 15:30:20+00:00</td>\n",
       "      <td>0</td>\n",
       "      <td>0</td>\n",
       "      <td>48</td>\n",
       "    </tr>\n",
       "    <tr>\n",
       "      <th>705</th>\n",
       "      <td>1514627085360410624</td>\n",
       "      <td>@Forsan_UAE 192 دولة \\n\\n#إكسبو_2020_دبي</td>\n",
       "      <td>2022-04-14 15:30:12+00:00</td>\n",
       "      <td>0</td>\n",
       "      <td>0</td>\n",
       "      <td>38</td>\n",
       "    </tr>\n",
       "  </tbody>\n",
       "</table>\n",
       "</div>"
      ],
      "text/plain": [
       "                        ID                                              Tweet  \\\n",
       "index                                                                           \n",
       "701    1514627428492230663  @Forsan_UAE 192 دولة.\\n.\\n#إكسبو_2020_دبي \\n.\\...   \n",
       "702    1514627394421854229            @Forsan_UAE 192دوله \\n\\n#اكسبو_2020_دبي   \n",
       "703    1514627371252555777  @Forsan_UAE 192 دولة.\\n.\\n#إكسبو_2020_دبي \\n.\\...   \n",
       "704    1514627119351054341  @Forsan_UAE 192 دولة.\\n.\\n#إكسبو_2020_دبي \\n.\\...   \n",
       "705    1514627085360410624           @Forsan_UAE 192 دولة \\n\\n#إكسبو_2020_دبي   \n",
       "\n",
       "                      Timestamp  Likes  Retweets  Length  \n",
       "index                                                     \n",
       "701   2022-04-14 15:31:34+00:00      0         0      48  \n",
       "702   2022-04-14 15:31:25+00:00      0         0      37  \n",
       "703   2022-04-14 15:31:20+00:00      0         0      48  \n",
       "704   2022-04-14 15:30:20+00:00      0         0      48  \n",
       "705   2022-04-14 15:30:12+00:00      0         0      38  "
      ]
     },
     "metadata": {},
     "output_type": "display_data"
    },
    {
     "name": "stdout",
     "output_type": "stream",
     "text": [
      "total of collected tweets is  706\n"
     ]
    }
   ],
   "source": [
    "display(tweets.head())\n",
    "display(tweets.tail())\n",
    "print('total of collected tweets is ', len(tweets))"
   ]
  },
  {
   "cell_type": "code",
   "execution_count": 7,
   "metadata": {},
   "outputs": [
    {
     "name": "stdout",
     "output_type": "stream",
     "text": [
      "<class 'pandas.core.frame.DataFrame'>\n",
      "Int64Index: 706 entries, 0 to 705\n",
      "Data columns (total 6 columns):\n",
      " #   Column     Non-Null Count  Dtype              \n",
      "---  ------     --------------  -----              \n",
      " 0   ID         706 non-null    int64              \n",
      " 1   Tweet      706 non-null    object             \n",
      " 2   Timestamp  706 non-null    datetime64[ns, UTC]\n",
      " 3   Likes      706 non-null    int64              \n",
      " 4   Retweets   706 non-null    int64              \n",
      " 5   Length     706 non-null    int64              \n",
      "dtypes: datetime64[ns, UTC](1), int64(4), object(1)\n",
      "memory usage: 38.6+ KB\n"
     ]
    }
   ],
   "source": [
    "\n",
    "tweets.info()\n"
   ]
  },
  {
   "cell_type": "markdown",
   "metadata": {},
   "source": [
    "### 4. Data Visualization"
   ]
  },
  {
   "cell_type": "code",
   "execution_count": 8,
   "metadata": {},
   "outputs": [
    {
     "data": {
      "image/png": "[encoded data removed]",
      "text/plain": [
       "<Figure size 432x288 with 1 Axes>"
      ]
     },
     "metadata": {
      "needs_background": "light"
     },
     "output_type": "display_data"
    }
   ],
   "source": [
    "plt.plot(tweets['Timestamp'], tweets['Likes'])\n",
    "plt.gcf().autofmt_xdate()\n",
    "plt.show()"
   ]
  },
  {
   "cell_type": "code",
   "execution_count": 9,
   "metadata": {},
   "outputs": [
    {
     "data": {
      "image/png": "[encoded data removed]",
      "text/plain": [
       "<Figure size 432x288 with 1 Axes>"
      ]
     },
     "metadata": {
      "needs_background": "light"
     },
     "output_type": "display_data"
    }
   ],
   "source": [
    "plt.scatter(tweets['Length'], tweets['Likes'], color='pink')\n",
    "plt.show()\n"
   ]
  },
  {
   "cell_type": "code",
   "execution_count": 10,
   "metadata": {},
   "outputs": [],
   "source": [
    "# tweets1 = pd.read_csv('tweets1.csv')\n",
    "# tweets2 = pd.read_csv('tweets3.csv')\n",
    "# tweets3 = pd.read_csv('tweets327.csv')\n",
    "# tweets4 = pd.read_csv('tweets1439.csv')\n",
    "# tweets5 = pd.read_csv('tweets526.csv')\n",
    "# tweets6 = pd.read_csv('tweets546.csv')\n",
    "# tweets7 = pd.read_csv('tweets129.csv')\n",
    "# tweets8 = pd.read_csv('tweets1700.csv')\n",
    "\n",
    "# tweets1 = tweets1.drop(['Unnamed: 0'], axis=1)\n",
    "# tweets2 = tweets2.drop(['Unnamed: 0'], axis=1)\n",
    "# tweets3 = tweets3.drop(['index'], axis=1)\n",
    "# tweets4 = tweets4.drop(['index'], axis=1)\n",
    "# tweets5 = tweets5.drop(['index'], axis=1)\n",
    "# tweets6 = tweets6.drop(['index'], axis=1)\n",
    "# tweets7 = tweets7.drop(['index'], axis=1)\n",
    "# tweets8 = tweets8.drop(['index'], axis=1)\n",
    "\n",
    "\n",
    "\n",
    "# frames = [tweets1, tweets2, tweets3, tweets4, tweets5, tweets6, tweets7, tweets8]\n",
    "# final_tweets = pd.concat(frames)  # append the data frame to the previous one\n",
    "# final_tweets.insert(0, 'index', range(0, len(final_tweets)))\n",
    "# final_tweets = final_tweets.set_index('index')\n",
    "\n",
    "# display(final_tweets.head())\n",
    "# display(final_tweets.tail())\n",
    "\n",
    "# final_tweets.to_csv('dirty_tweets_updated.csv')\n"
   ]
  }
 ],
 "metadata": {
  "interpreter": {
   "hash": "11938c6bc6919ae2720b4d5011047913343b08a43b18698fd82dedb0d4417594"
  },
  "kernelspec": {
   "display_name": "Python 3.9.7 64-bit",
   "language": "python",
   "name": "python3"
  },
  "language_info": {
   "codemirror_mode": {
    "name": "ipython",
    "version": 3
   },
   "file_extension": ".py",
   "mimetype": "text/x-python",
   "name": "python",
   "nbconvert_exporter": "python",
   "pygments_lexer": "ipython3",
   "version": "3.9.7"
  },
  "orig_nbformat": 4
 },
 "nbformat": 4,
 "nbformat_minor": 2
}
