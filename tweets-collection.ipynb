{
 "cells": [
  {
   "cell_type": "markdown",
   "metadata": {},
   "source": [
    "# Introduction\n",
    "The aim of this project is to conduct a sentiment analysis using python and twitter's API. The topic in my case is Expo 2020.\n",
    "\n",
    "**What is Expo 2020?**\n",
    "> Initiated in London 1851. It is a global gathering aimed to find solutions to challenges imposed by the current times. Aims  to create enriching and immersive experience. World expo traverses through different cities each time. It also revolves around certain themes. Currently, World expo is taking place in Dubai, UAE. Between Oct, 2021 and Mar, 2022. For more information please visit [expo2020dubai](https://www.expo2020dubai.com/)\n",
    "\n",
    "**The goal of this project**\n",
    "> As discussed above the main goal is to conduct a sentiment analysis and learn the basics of data science and big data projects. Since expo 2020 is considered an educational exhibition that revolves around modern day problems and is hosted currently in the middle east. The aim is to measure the awareness of the arab society - *By arab society we mean anyone who posts their opinions in arabic*\n",
    "\n",
    "\n",
    "\n",
    "This part is about discovering and collecting as much data as possible that is relating to the topic at hand. I will be needing tweets that are written in Arabic. \n",
    "Each step is further illustrated in its own markdown.\n",
    "\n",
    "\n",
    "\n"
   ]
  },
  {
   "cell_type": "code",
   "execution_count": 4,
   "metadata": {},
   "outputs": [],
   "source": [
    "import tweepy\n",
    "import pandas as pd\n",
    "import numpy as np\n",
    "import configparser\n",
    "import matplotlib.pyplot as plt\n",
    "import random"
   ]
  },
  {
   "cell_type": "code",
   "execution_count": 5,
   "metadata": {},
   "outputs": [
    {
     "name": "stdout",
     "output_type": "stream",
     "text": [
      "4.5.0\n"
     ]
    }
   ],
   "source": [
    "print(tweepy.__version__)\n"
   ]
  },
  {
   "cell_type": "markdown",
   "metadata": {},
   "source": [
    "### 1. Configuration and Authentication \n",
    "---\n",
    "This is the setup part and API authentication. Prior to using the API it is necessary to create a developer account, the account grants you two levels of access. A user level and an application/project level. I will be using **configparser** to ensure my API keys are not visible. I suggest you do the same. The following is how to set up the configuration process.\n",
    "\n",
    "\n",
    "1.  create a project from the developer's portal\n",
    "2.  generate your API and access keys\n",
    "3.  save them in a 'config.ini' file in the following format:\n",
    "   \n",
    "    ``` ini\n",
    "    [twitter]\n",
    "    CONSUMER_KEY = 'YOUR CONSUMER KEY'\n",
    "    CONSUMER_SECRET = 'YOUR CONSUMER SECRET'\n",
    "    ACCESS_TOKEN = 'YOUR ACCESS TOKEN'\n",
    "    ACCESS_TOKEN_SECRET = 'YOUR ACCESS TOKEN SECRET' \n",
    "    ```\n",
    "   \n",
    "4. install configparser by running  `pip install configparser`\n",
    "\n",
    "> **Note:** If you don't plan on using the config parser make sure you remove the import and change the next cell accordingly. To eliminate any errors. Make sure you adhere to the same variable names!"
   ]
  },
  {
   "cell_type": "code",
   "execution_count": 6,
   "metadata": {},
   "outputs": [],
   "source": [
    "# read the file from 'config.ini' \n",
    "config = configparser.ConfigParser()\n",
    "config.read('config.ini')\n",
    "\n",
    "# API Variables\n",
    "CONSUMER_KEY = config['twitter']['CONSUMER_KEY']\n",
    "CONSUMER_SECRET = config['twitter']['CONSUMER_SECRET']\n",
    "ACCESS_TOKEN = config['twitter']['ACCESS_TOKEN']\n",
    "ACCESS_TOKEN_SECRET = config['twitter']['ACCESS_TOKEN_SECRET']\n"
   ]
  },
  {
   "cell_type": "code",
   "execution_count": 7,
   "metadata": {},
   "outputs": [],
   "source": [
    "# authenticate using tweepy\n",
    "def twitter_setup():\n",
    "    auth = tweepy.OAuth1UserHandler(CONSUMER_KEY, CONSUMER_SECRET)  # project access\n",
    "    auth.set_access_token(ACCESS_TOKEN, ACCESS_TOKEN_SECRET)  # user access\n",
    "\n",
    "    api = tweepy.API(auth = auth)\n",
    "    return api\n",
    "\n",
    "extractor = twitter_setup() "
   ]
  },
  {
   "cell_type": "markdown",
   "metadata": {},
   "source": [
    "### 2. Data Collection\n",
    "---\n",
    "After setting up the credentials and authenticating the project. I can start extracting data using **tweepy's** API. The aim is to search different terms and different hashtags in order to collect as much entries as the API allows for. There are many limitations since I have the `Elevated Access`. The main ones is that the search API only allows search to go back 7 days. One way this was managed was starting the project early. However, the ideal goal is to be able to search the entire archive. Nonetheless, the project aims to measure the opinion at the current time. Therefore, the regular search will suffice!\n",
    "\n",
    "I have created a function that when called extracts tweets depending on a local list. This list can have as many search queires as anyone would like. Also, The function parses the needed information and stores it in a data frame. Upon each iteration it appends to the previous data frame. This is beneficial when storing the data in .csv files."
   ]
  },
  {
   "cell_type": "code",
   "execution_count": 8,
   "metadata": {},
   "outputs": [],
   "source": [
    "def extract_tweets():\n",
    "    tweets = []  # main data frame\n",
    "    data = [] # temporary data frame\n",
    "    columns_header = ['ID', 'Tweet', 'Timestamp', 'Likes', 'Retweets', 'Length']\n",
    "    search_terms = ['@expo2020dubai -filter:retweets',\n",
    "                    '#expo2020 -filter:retweets',\n",
    "                    '#اكسبو -filter:retweets',\n",
    "                    'اكسبو دبي -filter:retweets']  # search terms\n",
    "\n",
    "    # fetch the tweets once prior to the iteration to append things correctly\n",
    "    collected_tweets = tweepy.Cursor(extractor.search_tweets, q='expo dubai -filter:retweets', lang='ar', tweet_mode='extended').items(600)\n",
    "\n",
    "    for tweet in collected_tweets:\n",
    "        data.append([tweet.id, tweet.full_text, tweet.created_at,tweet.favorite_count, tweet.retweet_count, len(tweet.full_text)])\n",
    "\n",
    "    tweets = pd.DataFrame(data=data, columns=columns_header) # store in original data frame\n",
    "\n",
    "    for term in search_terms:\n",
    "        data = []\n",
    "        collected_tweets = tweepy.Cursor(extractor.search_tweets, q=term, lang='ar', tweet_mode='extended').items(600)\n",
    "\n",
    "        for tweet in collected_tweets:\n",
    "            data.append([tweet.id, tweet.full_text, tweet.created_at, tweet.favorite_count, tweet.retweet_count, len(tweet.full_text)])\n",
    "\n",
    "        df = pd.DataFrame(data=data, columns=columns_header)\n",
    "        frames = [tweets, df]  \n",
    "        tweets = pd.concat(frames) # append the data frame to the previous one\n",
    "\n",
    "    # since we are appending data frames the index value changes each time\n",
    "    # here the goal is to create a new index that is incremented by one \n",
    "    tweets.insert(0, 'index', range(0, len(tweets))) \n",
    "    tweets = tweets.set_index('index')\n",
    "\n",
    "    # random number to ensure files don't get overwritten\n",
    "    tweets.to_csv(f'tweets{random.randint(127,1862)}.csv')\n",
    "    \n",
    "    return tweets"
   ]
  },
  {
   "cell_type": "code",
   "execution_count": 9,
   "metadata": {},
   "outputs": [],
   "source": [
    "tweets = extract_tweets()"
   ]
  },
  {
   "cell_type": "markdown",
   "metadata": {},
   "source": [
    "### 3. Preliminary Data Exploration"
   ]
  },
  {
   "cell_type": "code",
   "execution_count": 10,
   "metadata": {},
   "outputs": [
    {
     "data": {
      "text/html": [
       "<div>\n",
       "<style scoped>\n",
       "    .dataframe tbody tr th:only-of-type {\n",
       "        vertical-align: middle;\n",
       "    }\n",
       "\n",
       "    .dataframe tbody tr th {\n",
       "        vertical-align: top;\n",
       "    }\n",
       "\n",
       "    .dataframe thead th {\n",
       "        text-align: right;\n",
       "    }\n",
       "</style>\n",
       "<table border=\"1\" class=\"dataframe\">\n",
       "  <thead>\n",
       "    <tr style=\"text-align: right;\">\n",
       "      <th></th>\n",
       "      <th>ID</th>\n",
       "      <th>Tweet</th>\n",
       "      <th>Timestamp</th>\n",
       "      <th>Likes</th>\n",
       "      <th>Retweets</th>\n",
       "      <th>Length</th>\n",
       "    </tr>\n",
       "    <tr>\n",
       "      <th>index</th>\n",
       "      <th></th>\n",
       "      <th></th>\n",
       "      <th></th>\n",
       "      <th></th>\n",
       "      <th></th>\n",
       "      <th></th>\n",
       "    </tr>\n",
       "  </thead>\n",
       "  <tbody>\n",
       "    <tr>\n",
       "      <th>0</th>\n",
       "      <td>1500939349889884166</td>\n",
       "      <td>أثناء زيارتها لـ #إكسبو2020 #دبي.. وزيرة نمساو...</td>\n",
       "      <td>2022-03-07 21:00:01+00:00</td>\n",
       "      <td>0</td>\n",
       "      <td>0</td>\n",
       "      <td>201</td>\n",
       "    </tr>\n",
       "    <tr>\n",
       "      <th>1</th>\n",
       "      <td>1500900614473138181</td>\n",
       "      <td>#RobertoCavalli #Uomo \\n@roberto_cavalli \\n\\n*...</td>\n",
       "      <td>2022-03-07 18:26:06+00:00</td>\n",
       "      <td>0</td>\n",
       "      <td>0</td>\n",
       "      <td>199</td>\n",
       "    </tr>\n",
       "    <tr>\n",
       "      <th>2</th>\n",
       "      <td>1500770169651707904</td>\n",
       "      <td>هذو لي راك تهدر عليهم هم نفسهم الذين اردتم ان ...</td>\n",
       "      <td>2022-03-07 09:47:46+00:00</td>\n",
       "      <td>1</td>\n",
       "      <td>0</td>\n",
       "      <td>203</td>\n",
       "    </tr>\n",
       "    <tr>\n",
       "      <th>3</th>\n",
       "      <td>1500745009611657224</td>\n",
       "      <td>تتوافق Shion مع عبارة \"لن أنساك. نقدم للزوار أ...</td>\n",
       "      <td>2022-03-07 08:07:47+00:00</td>\n",
       "      <td>1</td>\n",
       "      <td>0</td>\n",
       "      <td>285</td>\n",
       "    </tr>\n",
       "    <tr>\n",
       "      <th>4</th>\n",
       "      <td>1500730516831715328</td>\n",
       "      <td>جناح #أنجولا يحتفي مع جمهور #إكسبو2020 #دبي با...</td>\n",
       "      <td>2022-03-07 07:10:12+00:00</td>\n",
       "      <td>1</td>\n",
       "      <td>1</td>\n",
       "      <td>224</td>\n",
       "    </tr>\n",
       "  </tbody>\n",
       "</table>\n",
       "</div>"
      ],
      "text/plain": [
       "                        ID                                              Tweet  \\\n",
       "index                                                                           \n",
       "0      1500939349889884166  أثناء زيارتها لـ #إكسبو2020 #دبي.. وزيرة نمساو...   \n",
       "1      1500900614473138181  #RobertoCavalli #Uomo \\n@roberto_cavalli \\n\\n*...   \n",
       "2      1500770169651707904  هذو لي راك تهدر عليهم هم نفسهم الذين اردتم ان ...   \n",
       "3      1500745009611657224  تتوافق Shion مع عبارة \"لن أنساك. نقدم للزوار أ...   \n",
       "4      1500730516831715328  جناح #أنجولا يحتفي مع جمهور #إكسبو2020 #دبي با...   \n",
       "\n",
       "                      Timestamp  Likes  Retweets  Length  \n",
       "index                                                     \n",
       "0     2022-03-07 21:00:01+00:00      0         0     201  \n",
       "1     2022-03-07 18:26:06+00:00      0         0     199  \n",
       "2     2022-03-07 09:47:46+00:00      1         0     203  \n",
       "3     2022-03-07 08:07:47+00:00      1         0     285  \n",
       "4     2022-03-07 07:10:12+00:00      1         1     224  "
      ]
     },
     "metadata": {},
     "output_type": "display_data"
    },
    {
     "data": {
      "text/html": [
       "<div>\n",
       "<style scoped>\n",
       "    .dataframe tbody tr th:only-of-type {\n",
       "        vertical-align: middle;\n",
       "    }\n",
       "\n",
       "    .dataframe tbody tr th {\n",
       "        vertical-align: top;\n",
       "    }\n",
       "\n",
       "    .dataframe thead th {\n",
       "        text-align: right;\n",
       "    }\n",
       "</style>\n",
       "<table border=\"1\" class=\"dataframe\">\n",
       "  <thead>\n",
       "    <tr style=\"text-align: right;\">\n",
       "      <th></th>\n",
       "      <th>ID</th>\n",
       "      <th>Tweet</th>\n",
       "      <th>Timestamp</th>\n",
       "      <th>Likes</th>\n",
       "      <th>Retweets</th>\n",
       "      <th>Length</th>\n",
       "    </tr>\n",
       "    <tr>\n",
       "      <th>index</th>\n",
       "      <th></th>\n",
       "      <th></th>\n",
       "      <th></th>\n",
       "      <th></th>\n",
       "      <th></th>\n",
       "      <th></th>\n",
       "    </tr>\n",
       "  </thead>\n",
       "  <tbody>\n",
       "    <tr>\n",
       "      <th>1886</th>\n",
       "      <td>1500048479569207297</td>\n",
       "      <td>@zaydoun النجاح اللي حققه جناح الكويت في اكسبو...</td>\n",
       "      <td>2022-03-05 10:00:01+00:00</td>\n",
       "      <td>6</td>\n",
       "      <td>0</td>\n",
       "      <td>277</td>\n",
       "    </tr>\n",
       "    <tr>\n",
       "      <th>1887</th>\n",
       "      <td>1500047308750270464</td>\n",
       "      <td>#إكسبو2020 #دبي يستضيف فعالية \"استثمر في #فلسط...</td>\n",
       "      <td>2022-03-05 09:55:22+00:00</td>\n",
       "      <td>1</td>\n",
       "      <td>2</td>\n",
       "      <td>117</td>\n",
       "    </tr>\n",
       "    <tr>\n",
       "      <th>1888</th>\n",
       "      <td>1500047187828477957</td>\n",
       "      <td>#القوات_المسلحة_الإماراتية تقدم عرضًا عسكريًا ...</td>\n",
       "      <td>2022-03-05 09:54:53+00:00</td>\n",
       "      <td>0</td>\n",
       "      <td>0</td>\n",
       "      <td>146</td>\n",
       "    </tr>\n",
       "    <tr>\n",
       "      <th>1889</th>\n",
       "      <td>1500046903177891842</td>\n",
       "      <td>ياليتني كنت معاكم امس في حفل ميحد حمد 💔\\n#ميحد...</td>\n",
       "      <td>2022-03-05 09:53:45+00:00</td>\n",
       "      <td>2</td>\n",
       "      <td>1</td>\n",
       "      <td>90</td>\n",
       "    </tr>\n",
       "    <tr>\n",
       "      <th>1890</th>\n",
       "      <td>1500046581567205378</td>\n",
       "      <td>أنا من يومين عفست الدنيا وخربت جدول ويكند خوات...</td>\n",
       "      <td>2022-03-05 09:52:29+00:00</td>\n",
       "      <td>1</td>\n",
       "      <td>0</td>\n",
       "      <td>129</td>\n",
       "    </tr>\n",
       "  </tbody>\n",
       "</table>\n",
       "</div>"
      ],
      "text/plain": [
       "                        ID                                              Tweet  \\\n",
       "index                                                                           \n",
       "1886   1500048479569207297  @zaydoun النجاح اللي حققه جناح الكويت في اكسبو...   \n",
       "1887   1500047308750270464  #إكسبو2020 #دبي يستضيف فعالية \"استثمر في #فلسط...   \n",
       "1888   1500047187828477957  #القوات_المسلحة_الإماراتية تقدم عرضًا عسكريًا ...   \n",
       "1889   1500046903177891842  ياليتني كنت معاكم امس في حفل ميحد حمد 💔\\n#ميحد...   \n",
       "1890   1500046581567205378  أنا من يومين عفست الدنيا وخربت جدول ويكند خوات...   \n",
       "\n",
       "                      Timestamp  Likes  Retweets  Length  \n",
       "index                                                     \n",
       "1886  2022-03-05 10:00:01+00:00      6         0     277  \n",
       "1887  2022-03-05 09:55:22+00:00      1         2     117  \n",
       "1888  2022-03-05 09:54:53+00:00      0         0     146  \n",
       "1889  2022-03-05 09:53:45+00:00      2         1      90  \n",
       "1890  2022-03-05 09:52:29+00:00      1         0     129  "
      ]
     },
     "metadata": {},
     "output_type": "display_data"
    },
    {
     "name": "stdout",
     "output_type": "stream",
     "text": [
      "total of collected tweets is  1891\n"
     ]
    }
   ],
   "source": [
    "display(tweets.head())\n",
    "display(tweets.tail())\n",
    "print('total of collected tweets is ', len(tweets))"
   ]
  },
  {
   "cell_type": "code",
   "execution_count": 11,
   "metadata": {},
   "outputs": [
    {
     "name": "stdout",
     "output_type": "stream",
     "text": [
      "<class 'pandas.core.frame.DataFrame'>\n",
      "Int64Index: 1891 entries, 0 to 1890\n",
      "Data columns (total 6 columns):\n",
      " #   Column     Non-Null Count  Dtype              \n",
      "---  ------     --------------  -----              \n",
      " 0   ID         1891 non-null   int64              \n",
      " 1   Tweet      1891 non-null   object             \n",
      " 2   Timestamp  1891 non-null   datetime64[ns, UTC]\n",
      " 3   Likes      1891 non-null   int64              \n",
      " 4   Retweets   1891 non-null   int64              \n",
      " 5   Length     1891 non-null   int64              \n",
      "dtypes: datetime64[ns, UTC](1), int64(4), object(1)\n",
      "memory usage: 103.4+ KB\n"
     ]
    }
   ],
   "source": [
    "\n",
    "tweets.info()\n"
   ]
  },
  {
   "cell_type": "markdown",
   "metadata": {},
   "source": [
    "### 4. Data Visualization"
   ]
  },
  {
   "cell_type": "code",
   "execution_count": 31,
   "metadata": {},
   "outputs": [
    {
     "data": {
      "image/png": "[encoded data removed]",
      "text/plain": [
       "<Figure size 432x288 with 1 Axes>"
      ]
     },
     "metadata": {
      "needs_background": "light"
     },
     "output_type": "display_data"
    }
   ],
   "source": [
    "plt.plot(tweets['Timestamp'], tweets['Likes'])\n",
    "plt.gcf().autofmt_xdate()\n",
    "plt.show()"
   ]
  },
  {
   "cell_type": "code",
   "execution_count": 32,
   "metadata": {},
   "outputs": [
    {
     "data": {
      "image/png": "[encoded data removed]",
      "text/plain": [
       "<Figure size 432x288 with 1 Axes>"
      ]
     },
     "metadata": {
      "needs_background": "light"
     },
     "output_type": "display_data"
    }
   ],
   "source": [
    "plt.scatter(tweets['Length'], tweets['Likes'], color='pink')\n",
    "plt.show()\n"
   ]
  },
  {
   "cell_type": "code",
   "execution_count": null,
   "metadata": {},
   "outputs": [],
   "source": []
  }
 ],
 "metadata": {
  "interpreter": {
   "hash": "ac59ebe37160ed0dfa835113d9b8498d9f09ceb179beaac4002f036b9467c963"
  },
  "kernelspec": {
   "display_name": "Python 3.9.7 64-bit",
   "language": "python",
   "name": "python3"
  },
  "language_info": {
   "codemirror_mode": {
    "name": "ipython",
    "version": 3
   },
   "file_extension": ".py",
   "mimetype": "text/x-python",
   "name": "python",
   "nbconvert_exporter": "python",
   "pygments_lexer": "ipython3",
   "version": "3.9.7"
  },
  "orig_nbformat": 4
 },
 "nbformat": 4,
 "nbformat_minor": 2
}
