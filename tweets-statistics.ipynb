{
 "cells": [
  {
   "cell_type": "markdown",
   "metadata": {},
   "source": [
    "### 3. Descriptive analysis\n",
    "--- \n"
   ]
  },
  {
   "cell_type": "code",
   "execution_count": 30,
   "metadata": {},
   "outputs": [],
   "source": [
    "import pandas as pd\n",
    "#importing libraries for word occurrences and count\n",
    "from sklearn.feature_extraction.text import TfidfTransformer\n",
    "from sklearn.feature_extraction.text import CountVectorizer\n",
    "import matplotlib.pyplot as plt\n",
    "import seaborn as sns\n"
   ]
  },
  {
   "cell_type": "code",
   "execution_count": 31,
   "metadata": {},
   "outputs": [],
   "source": [
    "analysis_tweets = pd.read_csv('Tweets\\\\final_tweets_classified.csv')"
   ]
  },
  {
   "cell_type": "code",
   "execution_count": 32,
   "metadata": {},
   "outputs": [
    {
     "data": {
      "text/plain": [
       "(5875, 11)"
      ]
     },
     "execution_count": 32,
     "metadata": {},
     "output_type": "execute_result"
    }
   ],
   "source": [
    "analysis_tweets.shape"
   ]
  },
  {
   "cell_type": "code",
   "execution_count": 33,
   "metadata": {},
   "outputs": [
    {
     "data": {
      "text/plain": [
       "Index(['Column1', 'index', 'ID', 'Tweet', 'Timestamp', 'Likes', 'Retweets',\n",
       "       'Length', 'Date', 'Time', 'Class'],\n",
       "      dtype='object')"
      ]
     },
     "execution_count": 33,
     "metadata": {},
     "output_type": "execute_result"
    }
   ],
   "source": [
    "analysis_tweets.columns"
   ]
  },
  {
   "cell_type": "code",
   "execution_count": 34,
   "metadata": {},
   "outputs": [
    {
     "name": "stdout",
     "output_type": "stream",
     "text": [
      "<class 'pandas.core.frame.DataFrame'>\n",
      "RangeIndex: 5875 entries, 0 to 5874\n",
      "Data columns (total 11 columns):\n",
      " #   Column     Non-Null Count  Dtype  \n",
      "---  ------     --------------  -----  \n",
      " 0   Column1    5875 non-null   int64  \n",
      " 1   index      5875 non-null   int64  \n",
      " 2   ID         5875 non-null   float64\n",
      " 3   Tweet      5875 non-null   object \n",
      " 4   Timestamp  5875 non-null   object \n",
      " 5   Likes      5875 non-null   int64  \n",
      " 6   Retweets   5875 non-null   int64  \n",
      " 7   Length     5875 non-null   int64  \n",
      " 8   Date       5875 non-null   object \n",
      " 9   Time       5875 non-null   object \n",
      " 10  Class      5875 non-null   object \n",
      "dtypes: float64(1), int64(5), object(5)\n",
      "memory usage: 505.0+ KB\n"
     ]
    }
   ],
   "source": [
    "#summary of data frame\n",
    "analysis_tweets.info(verbose=True)"
   ]
  },
  {
   "cell_type": "code",
   "execution_count": 35,
   "metadata": {},
   "outputs": [
    {
     "data": {
      "text/html": [
       "<div>\n",
       "<style scoped>\n",
       "    .dataframe tbody tr th:only-of-type {\n",
       "        vertical-align: middle;\n",
       "    }\n",
       "\n",
       "    .dataframe tbody tr th {\n",
       "        vertical-align: top;\n",
       "    }\n",
       "\n",
       "    .dataframe thead th {\n",
       "        text-align: right;\n",
       "    }\n",
       "</style>\n",
       "<table border=\"1\" class=\"dataframe\">\n",
       "  <thead>\n",
       "    <tr style=\"text-align: right;\">\n",
       "      <th></th>\n",
       "      <th>Column1</th>\n",
       "      <th>index</th>\n",
       "      <th>ID</th>\n",
       "      <th>Tweet</th>\n",
       "      <th>Timestamp</th>\n",
       "      <th>Likes</th>\n",
       "      <th>Retweets</th>\n",
       "      <th>Length</th>\n",
       "      <th>Date</th>\n",
       "      <th>Time</th>\n",
       "      <th>Class</th>\n",
       "    </tr>\n",
       "  </thead>\n",
       "  <tbody>\n",
       "    <tr>\n",
       "      <th>0</th>\n",
       "      <td>0</td>\n",
       "      <td>0</td>\n",
       "      <td>1.497300e+18</td>\n",
       "      <td>قبيل الاحتفال بـ اليوم الدولي لمراة تستعد كوكب...</td>\n",
       "      <td>2/25/22 23:00</td>\n",
       "      <td>1</td>\n",
       "      <td>0</td>\n",
       "      <td>198</td>\n",
       "      <td>2/25/2022</td>\n",
       "      <td>8:00:01 PM</td>\n",
       "      <td>positive</td>\n",
       "    </tr>\n",
       "    <tr>\n",
       "      <th>1</th>\n",
       "      <td>1</td>\n",
       "      <td>1</td>\n",
       "      <td>1.497300e+18</td>\n",
       "      <td>لحظات نزول دابانغ سلمان خان علا ارض المسرح اك...</td>\n",
       "      <td>2/25/22 22:57</td>\n",
       "      <td>2</td>\n",
       "      <td>0</td>\n",
       "      <td>207</td>\n",
       "      <td>2/25/2022</td>\n",
       "      <td>7:57:14 PM</td>\n",
       "      <td>positive</td>\n",
       "    </tr>\n",
       "    <tr>\n",
       "      <th>2</th>\n",
       "      <td>2</td>\n",
       "      <td>2</td>\n",
       "      <td>1.497300e+18</td>\n",
       "      <td>ليلة ميزة بانتظارنا   الحانها شرقية نجومها است...</td>\n",
       "      <td>2/25/22 22:47</td>\n",
       "      <td>0</td>\n",
       "      <td>0</td>\n",
       "      <td>232</td>\n",
       "      <td>2/25/2022</td>\n",
       "      <td>7:47:38 PM</td>\n",
       "      <td>positive</td>\n",
       "    </tr>\n",
       "    <tr>\n",
       "      <th>3</th>\n",
       "      <td>3</td>\n",
       "      <td>3</td>\n",
       "      <td>1.497300e+18</td>\n",
       "      <td>اصدق حفلة احلا فستان مستان انا بختار  واذا حفل...</td>\n",
       "      <td>2/25/22 22:40</td>\n",
       "      <td>3</td>\n",
       "      <td>1</td>\n",
       "      <td>168</td>\n",
       "      <td>2/25/2022</td>\n",
       "      <td>7:40:37 PM</td>\n",
       "      <td>positive</td>\n",
       "    </tr>\n",
       "    <tr>\n",
       "      <th>4</th>\n",
       "      <td>4</td>\n",
       "      <td>4</td>\n",
       "      <td>1.497290e+18</td>\n",
       "      <td>جنون بعده جنون دابانغ سلمان خان يستعرض حشد كب...</td>\n",
       "      <td>2/25/22 22:21</td>\n",
       "      <td>5</td>\n",
       "      <td>2</td>\n",
       "      <td>178</td>\n",
       "      <td>2/25/2022</td>\n",
       "      <td>7:21:09 PM</td>\n",
       "      <td>positive</td>\n",
       "    </tr>\n",
       "    <tr>\n",
       "      <th>5</th>\n",
       "      <td>5</td>\n",
       "      <td>5</td>\n",
       "      <td>1.497290e+18</td>\n",
       "      <td>اوركسترا الفردوس تمتع زوار اكسبو  دبي بعزفها ل...</td>\n",
       "      <td>2/25/22 22:17</td>\n",
       "      <td>2</td>\n",
       "      <td>0</td>\n",
       "      <td>163</td>\n",
       "      <td>2/25/2022</td>\n",
       "      <td>7:17:27 PM</td>\n",
       "      <td>positive</td>\n",
       "    </tr>\n",
       "    <tr>\n",
       "      <th>6</th>\n",
       "      <td>6</td>\n",
       "      <td>6</td>\n",
       "      <td>1.497290e+18</td>\n",
       "      <td>اكسبو اكسبو دبي الامارات   جناح سلطنة عمان ارق...</td>\n",
       "      <td>2/25/22 22:13</td>\n",
       "      <td>4</td>\n",
       "      <td>1</td>\n",
       "      <td>147</td>\n",
       "      <td>2/25/2022</td>\n",
       "      <td>7:13:25 PM</td>\n",
       "      <td>positive</td>\n",
       "    </tr>\n",
       "    <tr>\n",
       "      <th>7</th>\n",
       "      <td>7</td>\n",
       "      <td>7</td>\n",
       "      <td>1.497280e+18</td>\n",
       "      <td>ليلة  حتكون مليءة باحلا الانغام الشرقية كونوا ...</td>\n",
       "      <td>2/25/22 21:55</td>\n",
       "      <td>7</td>\n",
       "      <td>2</td>\n",
       "      <td>251</td>\n",
       "      <td>2/25/2022</td>\n",
       "      <td>6:55:27 PM</td>\n",
       "      <td>positive</td>\n",
       "    </tr>\n",
       "  </tbody>\n",
       "</table>\n",
       "</div>"
      ],
      "text/plain": [
       "   Column1  index            ID  \\\n",
       "0        0      0  1.497300e+18   \n",
       "1        1      1  1.497300e+18   \n",
       "2        2      2  1.497300e+18   \n",
       "3        3      3  1.497300e+18   \n",
       "4        4      4  1.497290e+18   \n",
       "5        5      5  1.497290e+18   \n",
       "6        6      6  1.497290e+18   \n",
       "7        7      7  1.497280e+18   \n",
       "\n",
       "                                               Tweet      Timestamp  Likes  \\\n",
       "0  قبيل الاحتفال بـ اليوم الدولي لمراة تستعد كوكب...  2/25/22 23:00      1   \n",
       "1   لحظات نزول دابانغ سلمان خان علا ارض المسرح اك...  2/25/22 22:57      2   \n",
       "2  ليلة ميزة بانتظارنا   الحانها شرقية نجومها است...  2/25/22 22:47      0   \n",
       "3  اصدق حفلة احلا فستان مستان انا بختار  واذا حفل...  2/25/22 22:40      3   \n",
       "4   جنون بعده جنون دابانغ سلمان خان يستعرض حشد كب...  2/25/22 22:21      5   \n",
       "5  اوركسترا الفردوس تمتع زوار اكسبو  دبي بعزفها ل...  2/25/22 22:17      2   \n",
       "6  اكسبو اكسبو دبي الامارات   جناح سلطنة عمان ارق...  2/25/22 22:13      4   \n",
       "7  ليلة  حتكون مليءة باحلا الانغام الشرقية كونوا ...  2/25/22 21:55      7   \n",
       "\n",
       "   Retweets  Length       Date        Time     Class  \n",
       "0         0     198  2/25/2022  8:00:01 PM  positive  \n",
       "1         0     207  2/25/2022  7:57:14 PM  positive  \n",
       "2         0     232  2/25/2022  7:47:38 PM  positive  \n",
       "3         1     168  2/25/2022  7:40:37 PM  positive  \n",
       "4         2     178  2/25/2022  7:21:09 PM  positive  \n",
       "5         0     163  2/25/2022  7:17:27 PM  positive  \n",
       "6         1     147  2/25/2022  7:13:25 PM  positive  \n",
       "7         2     251  2/25/2022  6:55:27 PM  positive  "
      ]
     },
     "execution_count": 35,
     "metadata": {},
     "output_type": "execute_result"
    }
   ],
   "source": [
    "#check if the data frame has the right type\n",
    "analysis_tweets.head(8)"
   ]
  },
  {
   "cell_type": "code",
   "execution_count": 36,
   "metadata": {},
   "outputs": [
    {
     "data": {
      "text/html": [
       "<div>\n",
       "<style scoped>\n",
       "    .dataframe tbody tr th:only-of-type {\n",
       "        vertical-align: middle;\n",
       "    }\n",
       "\n",
       "    .dataframe tbody tr th {\n",
       "        vertical-align: top;\n",
       "    }\n",
       "\n",
       "    .dataframe thead th {\n",
       "        text-align: right;\n",
       "    }\n",
       "</style>\n",
       "<table border=\"1\" class=\"dataframe\">\n",
       "  <thead>\n",
       "    <tr style=\"text-align: right;\">\n",
       "      <th></th>\n",
       "      <th>Tweet</th>\n",
       "      <th>Timestamp</th>\n",
       "      <th>Date</th>\n",
       "      <th>Time</th>\n",
       "      <th>Class</th>\n",
       "    </tr>\n",
       "  </thead>\n",
       "  <tbody>\n",
       "    <tr>\n",
       "      <th>count</th>\n",
       "      <td>5875</td>\n",
       "      <td>5875</td>\n",
       "      <td>5875</td>\n",
       "      <td>5875</td>\n",
       "      <td>5875</td>\n",
       "    </tr>\n",
       "    <tr>\n",
       "      <th>unique</th>\n",
       "      <td>5875</td>\n",
       "      <td>4922</td>\n",
       "      <td>39</td>\n",
       "      <td>5389</td>\n",
       "      <td>3</td>\n",
       "    </tr>\n",
       "    <tr>\n",
       "      <th>top</th>\n",
       "      <td>قبيل الاحتفال بـ اليوم الدولي لمراة تستعد كوكب...</td>\n",
       "      <td>3/31/22 21:59</td>\n",
       "      <td>4/1/2022</td>\n",
       "      <td>11:00:00 AM</td>\n",
       "      <td>positive</td>\n",
       "    </tr>\n",
       "    <tr>\n",
       "      <th>freq</th>\n",
       "      <td>1</td>\n",
       "      <td>12</td>\n",
       "      <td>700</td>\n",
       "      <td>12</td>\n",
       "      <td>3189</td>\n",
       "    </tr>\n",
       "  </tbody>\n",
       "</table>\n",
       "</div>"
      ],
      "text/plain": [
       "                                                    Tweet      Timestamp  \\\n",
       "count                                                5875           5875   \n",
       "unique                                               5875           4922   \n",
       "top     قبيل الاحتفال بـ اليوم الدولي لمراة تستعد كوكب...  3/31/22 21:59   \n",
       "freq                                                    1             12   \n",
       "\n",
       "            Date         Time     Class  \n",
       "count       5875         5875      5875  \n",
       "unique        39         5389         3  \n",
       "top     4/1/2022  11:00:00 AM  positive  \n",
       "freq         700           12      3189  "
      ]
     },
     "execution_count": 36,
     "metadata": {},
     "output_type": "execute_result"
    }
   ],
   "source": [
    "#statistic of charachter column\n",
    "analysis_tweets.describe(include=['object'])"
   ]
  },
  {
   "cell_type": "code",
   "execution_count": 37,
   "metadata": {},
   "outputs": [
    {
     "data": {
      "text/plain": [
       "2.4308085106382977"
      ]
     },
     "execution_count": 37,
     "metadata": {},
     "output_type": "execute_result"
    }
   ],
   "source": [
    "#calculate mean of the retweets column\n",
    "analysis_tweets.loc[:,\"Retweets\"].mean()"
   ]
  },
  {
   "cell_type": "code",
   "execution_count": 38,
   "metadata": {},
   "outputs": [
    {
     "data": {
      "text/plain": [
       "6.618042553191489"
      ]
     },
     "execution_count": 38,
     "metadata": {},
     "output_type": "execute_result"
    }
   ],
   "source": [
    "#calculate mean of the likes column\n",
    "analysis_tweets.loc[:,\"Likes\"].mean()"
   ]
  },
  {
   "cell_type": "code",
   "execution_count": 39,
   "metadata": {},
   "outputs": [
    {
     "data": {
      "text/plain": [
       "Column1     5.501051e+06\n",
       "index       4.815905e+06\n",
       "ID          2.672914e+31\n",
       "Likes       1.411854e+03\n",
       "Retweets    2.049143e+02\n",
       "Length      6.049225e+03\n",
       "dtype: float64"
      ]
     },
     "execution_count": 39,
     "metadata": {},
     "output_type": "execute_result"
    }
   ],
   "source": [
    "#compute the variance of the data frame\n",
    "analysis_tweets.var(numeric_only=True)"
   ]
  },
  {
   "cell_type": "code",
   "execution_count": 40,
   "metadata": {},
   "outputs": [
    {
     "data": {
      "text/plain": [
       "positive    3189\n",
       "neutral     2464\n",
       "negative     222\n",
       "Name: Class, dtype: int64"
      ]
     },
     "execution_count": 40,
     "metadata": {},
     "output_type": "execute_result"
    }
   ],
   "source": [
    "analysis_tweets['Class'].value_counts()"
   ]
  },
  {
   "cell_type": "code",
   "execution_count": 41,
   "metadata": {},
   "outputs": [
    {
     "data": {
      "text/plain": [
       "(5875, 19133)"
      ]
     },
     "execution_count": 41,
     "metadata": {},
     "output_type": "execute_result"
    }
   ],
   "source": [
    "#initiate the CountVectorizer\n",
    "countV=CountVectorizer()\n",
    "#generate word count for the words\n",
    "word_count=countV.fit_transform(analysis_tweets['Tweet'].values.astype('U'))\n",
    "word_count.shape"
   ]
  },
  {
   "cell_type": "code",
   "execution_count": 42,
   "metadata": {},
   "outputs": [
    {
     "data": {
      "text/plain": [
       "TfidfTransformer()"
      ]
     },
     "execution_count": 42,
     "metadata": {},
     "output_type": "execute_result"
    }
   ],
   "source": [
    "#transform count matrix to normal tf-idf\n",
    "tfidf_transform=TfidfTransformer(smooth_idf=True,use_idf=True)\n",
    "#idf values\n",
    "tfidf_transform.fit(word_count)"
   ]
  },
  {
   "cell_type": "code",
   "execution_count": 43,
   "metadata": {},
   "outputs": [
    {
     "name": "stderr",
     "output_type": "stream",
     "text": [
      "C:\\Users\\dalal\\AppData\\Roaming\\Python\\Python39\\site-packages\\sklearn\\utils\\deprecation.py:87: FutureWarning: Function get_feature_names is deprecated; get_feature_names is deprecated in 1.0 and will be removed in 1.2. Please use get_feature_names_out instead.\n",
      "  warnings.warn(msg, category=FutureWarning)\n"
     ]
    }
   ],
   "source": [
    "#print idf values\n",
    "df_idf=pd.DataFrame(tfidf_transform.idf_,index=countV.get_feature_names(),columns=['idf_weights'])"
   ]
  },
  {
   "cell_type": "code",
   "execution_count": 44,
   "metadata": {},
   "outputs": [
    {
     "data": {
      "text/html": [
       "<div>\n",
       "<style scoped>\n",
       "    .dataframe tbody tr th:only-of-type {\n",
       "        vertical-align: middle;\n",
       "    }\n",
       "\n",
       "    .dataframe tbody tr th {\n",
       "        vertical-align: top;\n",
       "    }\n",
       "\n",
       "    .dataframe thead th {\n",
       "        text-align: right;\n",
       "    }\n",
       "</style>\n",
       "<table border=\"1\" class=\"dataframe\">\n",
       "  <thead>\n",
       "    <tr style=\"text-align: right;\">\n",
       "      <th></th>\n",
       "      <th>idf_weights</th>\n",
       "    </tr>\n",
       "  </thead>\n",
       "  <tbody>\n",
       "    <tr>\n",
       "      <th>اكسبو</th>\n",
       "      <td>1.227578</td>\n",
       "    </tr>\n",
       "    <tr>\n",
       "      <th>دبي</th>\n",
       "      <td>1.462003</td>\n",
       "    </tr>\n",
       "    <tr>\n",
       "      <th>علا</th>\n",
       "      <td>2.386975</td>\n",
       "    </tr>\n",
       "    <tr>\n",
       "      <th>الامارات</th>\n",
       "      <td>2.701350</td>\n",
       "    </tr>\n",
       "    <tr>\n",
       "      <th>جناح</th>\n",
       "      <td>3.150674</td>\n",
       "    </tr>\n",
       "    <tr>\n",
       "      <th>عينك</th>\n",
       "      <td>3.413330</td>\n",
       "    </tr>\n",
       "    <tr>\n",
       "      <th>العالم</th>\n",
       "      <td>3.436408</td>\n",
       "    </tr>\n",
       "    <tr>\n",
       "      <th>محمد</th>\n",
       "      <td>3.672278</td>\n",
       "    </tr>\n",
       "    <tr>\n",
       "      <th>الحدث</th>\n",
       "      <td>3.852631</td>\n",
       "    </tr>\n",
       "    <tr>\n",
       "      <th>داءما</th>\n",
       "      <td>3.852631</td>\n",
       "    </tr>\n",
       "    <tr>\n",
       "      <th>راشد</th>\n",
       "      <td>3.867491</td>\n",
       "    </tr>\n",
       "    <tr>\n",
       "      <th>العالمي</th>\n",
       "      <td>3.900979</td>\n",
       "    </tr>\n",
       "    <tr>\n",
       "      <th>شكرا</th>\n",
       "      <td>3.922889</td>\n",
       "    </tr>\n",
       "    <tr>\n",
       "      <th>معرض</th>\n",
       "      <td>3.926059</td>\n",
       "    </tr>\n",
       "    <tr>\n",
       "      <th>دولة</th>\n",
       "      <td>3.955046</td>\n",
       "    </tr>\n",
       "  </tbody>\n",
       "</table>\n",
       "</div>"
      ],
      "text/plain": [
       "          idf_weights\n",
       "اكسبو        1.227578\n",
       "دبي          1.462003\n",
       "علا          2.386975\n",
       "الامارات     2.701350\n",
       "جناح         3.150674\n",
       "عينك         3.413330\n",
       "العالم       3.436408\n",
       "محمد         3.672278\n",
       "الحدث        3.852631\n",
       "داءما        3.852631\n",
       "راشد         3.867491\n",
       "العالمي      3.900979\n",
       "شكرا         3.922889\n",
       "معرض         3.926059\n",
       "دولة         3.955046"
      ]
     },
     "execution_count": 44,
     "metadata": {},
     "output_type": "execute_result"
    }
   ],
   "source": [
    "df_idf.sort_values(by=['idf_weights']).head(15)"
   ]
  },
  {
   "cell_type": "code",
   "execution_count": 45,
   "metadata": {},
   "outputs": [
    {
     "data": {
      "text/html": [
       "<div>\n",
       "<style scoped>\n",
       "    .dataframe tbody tr th:only-of-type {\n",
       "        vertical-align: middle;\n",
       "    }\n",
       "\n",
       "    .dataframe tbody tr th {\n",
       "        vertical-align: top;\n",
       "    }\n",
       "\n",
       "    .dataframe thead th {\n",
       "        text-align: right;\n",
       "    }\n",
       "</style>\n",
       "<table border=\"1\" class=\"dataframe\">\n",
       "  <thead>\n",
       "    <tr style=\"text-align: right;\">\n",
       "      <th></th>\n",
       "      <th>idf_weights</th>\n",
       "    </tr>\n",
       "  </thead>\n",
       "  <tbody>\n",
       "    <tr>\n",
       "      <th>حيـث</th>\n",
       "      <td>8.985484</td>\n",
       "    </tr>\n",
       "    <tr>\n",
       "      <th>حيفضل</th>\n",
       "      <td>8.985484</td>\n",
       "    </tr>\n",
       "    <tr>\n",
       "      <th>حين</th>\n",
       "      <td>8.985484</td>\n",
       "    </tr>\n",
       "    <tr>\n",
       "      <th>حينا</th>\n",
       "      <td>8.985484</td>\n",
       "    </tr>\n",
       "    <tr>\n",
       "      <th>حينها</th>\n",
       "      <td>8.985484</td>\n",
       "    </tr>\n",
       "    <tr>\n",
       "      <th>حيويا</th>\n",
       "      <td>8.985484</td>\n",
       "    </tr>\n",
       "    <tr>\n",
       "      <th>حگامها</th>\n",
       "      <td>8.985484</td>\n",
       "    </tr>\n",
       "    <tr>\n",
       "      <th>خابوا</th>\n",
       "      <td>8.985484</td>\n",
       "    </tr>\n",
       "    <tr>\n",
       "      <th>خاتمة</th>\n",
       "      <td>8.985484</td>\n",
       "    </tr>\n",
       "    <tr>\n",
       "      <th>خاسر</th>\n",
       "      <td>8.985484</td>\n",
       "    </tr>\n",
       "    <tr>\n",
       "      <th>خاصة</th>\n",
       "      <td>8.985484</td>\n",
       "    </tr>\n",
       "    <tr>\n",
       "      <th>خاصية</th>\n",
       "      <td>8.985484</td>\n",
       "    </tr>\n",
       "    <tr>\n",
       "      <th>خاطرة</th>\n",
       "      <td>8.985484</td>\n",
       "    </tr>\n",
       "    <tr>\n",
       "      <th>خربوش</th>\n",
       "      <td>8.985484</td>\n",
       "    </tr>\n",
       "    <tr>\n",
       "      <th>ﺭوﺅﻋـهـ</th>\n",
       "      <td>8.985484</td>\n",
       "    </tr>\n",
       "  </tbody>\n",
       "</table>\n",
       "</div>"
      ],
      "text/plain": [
       "         idf_weights\n",
       "حيـث        8.985484\n",
       "حيفضل       8.985484\n",
       "حين         8.985484\n",
       "حينا        8.985484\n",
       "حينها       8.985484\n",
       "حيويا       8.985484\n",
       "حگامها      8.985484\n",
       "خابوا       8.985484\n",
       "خاتمة       8.985484\n",
       "خاسر        8.985484\n",
       "خاصة        8.985484\n",
       "خاصية       8.985484\n",
       "خاطرة       8.985484\n",
       "خربوش       8.985484\n",
       "ﺭوﺅﻋـهـ     8.985484"
      ]
     },
     "execution_count": 45,
     "metadata": {},
     "output_type": "execute_result"
    }
   ],
   "source": [
    "df_idf.sort_values(by=['idf_weights']).tail(15)"
   ]
  },
  {
   "cell_type": "code",
   "execution_count": 46,
   "metadata": {},
   "outputs": [
    {
     "data": {
      "text/plain": [
       "158.0"
      ]
     },
     "execution_count": 46,
     "metadata": {},
     "output_type": "execute_result"
    }
   ],
   "source": [
    "#median of Length\n",
    "analysis_tweets.loc[:,\"Length\"].median()"
   ]
  },
  {
   "cell_type": "code",
   "execution_count": 47,
   "metadata": {},
   "outputs": [
    {
     "data": {
      "text/plain": [
       "0.0"
      ]
     },
     "execution_count": 47,
     "metadata": {},
     "output_type": "execute_result"
    }
   ],
   "source": [
    "#median of retweets\n",
    "analysis_tweets.loc[:,\"Retweets\"].median()"
   ]
  },
  {
   "cell_type": "code",
   "execution_count": 48,
   "metadata": {},
   "outputs": [
    {
     "data": {
      "text/plain": [
       "1.0"
      ]
     },
     "execution_count": 48,
     "metadata": {},
     "output_type": "execute_result"
    }
   ],
   "source": [
    "#median of Likes\n",
    "analysis_tweets.loc[:,\"Likes\"].median()"
   ]
  },
  {
   "cell_type": "code",
   "execution_count": 49,
   "metadata": {},
   "outputs": [
    {
     "data": {
      "text/plain": [
       "<AxesSubplot:title={'center':'Top 5 Likes'}, xlabel='Likes', ylabel=' tweets'>"
      ]
     },
     "execution_count": 49,
     "metadata": {},
     "output_type": "execute_result"
    },
    {
     "data": {
      "image/png": "[encoded data removed]",
      "text/plain": [
       "<Figure size 432x288 with 1 Axes>"
      ]
     },
     "metadata": {
      "needs_background": "light"
     },
     "output_type": "display_data"
    }
   ],
   "source": [
    "# visualize the results\n",
    "\n",
    "tweets_by_Likes = analysis_tweets['Likes'].value_counts()\n",
    "fig, ax = plt.subplots()\n",
    "\n",
    "ax.tick_params(axis='x', labelsize=15)\n",
    "ax.tick_params(axis='y', labelsize=10)\n",
    "\n",
    "ax.set_xlabel('Likes', fontsize=15)\n",
    "ax.set_ylabel(' tweets' , fontsize=15)\n",
    "ax.set_title('Top 5 Likes', fontsize=15, fontweight='bold')\n",
    "\n",
    "tweets_by_Likes[:5].plot(ax=ax, kind='bar')"
   ]
  },
  {
   "cell_type": "code",
   "execution_count": 50,
   "metadata": {},
   "outputs": [
    {
     "data": {
      "text/plain": [
       "<seaborn.axisgrid.FacetGrid at 0x2b3ed9234c0>"
      ]
     },
     "execution_count": 50,
     "metadata": {},
     "output_type": "execute_result"
    },
    {
     "data": {
      "image/png": "[encoded data removed]",
      "text/plain": [
       "<Figure size 648x216 with 3 Axes>"
      ]
     },
     "metadata": {
      "needs_background": "light"
     },
     "output_type": "display_data"
    }
   ],
   "source": [
    "g = sns.FacetGrid(data=analysis_tweets, col='Class') # sperate based on Class \n",
    "g.map(plt.hist, 'Length', bins=50)"
   ]
  }
 ],
 "metadata": {
  "interpreter": {
   "hash": "ac59ebe37160ed0dfa835113d9b8498d9f09ceb179beaac4002f036b9467c963"
  },
  "kernelspec": {
   "display_name": "Python 3 (ipykernel)",
   "language": "python",
   "name": "python3"
  },
  "language_info": {
   "codemirror_mode": {
    "name": "ipython",
    "version": 3
   },
   "file_extension": ".py",
   "mimetype": "text/x-python",
   "name": "python",
   "nbconvert_exporter": "python",
   "pygments_lexer": "ipython3",
   "version": "3.9.7"
  }
 },
 "nbformat": 4,
 "nbformat_minor": 2
}
