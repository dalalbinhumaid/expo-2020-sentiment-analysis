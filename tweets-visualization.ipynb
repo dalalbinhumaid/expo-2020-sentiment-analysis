{
 "cells": [
  {
   "cell_type": "code",
   "execution_count": 40,
   "metadata": {},
   "outputs": [],
   "source": [
    "import pandas as pd\n",
    "import matplotlib.pyplot as plt\n",
    "import seaborn as sns"
   ]
  },
  {
   "cell_type": "code",
   "execution_count": 41,
   "metadata": {},
   "outputs": [],
   "source": [
    "pd.set_option('display.max_columns', None)\n",
    "pd.set_option('display.max_colwidth', None)\n",
    "pd.set_option('display.max_rows', None)\n",
    "pd.set_option('display.float_format', lambda x: '%.5f' % x)\n"
   ]
  },
  {
   "cell_type": "code",
   "execution_count": 35,
   "metadata": {},
   "outputs": [
    {
     "data": {
      "text/html": [
       "<div>\n",
       "<style scoped>\n",
       "    .dataframe tbody tr th:only-of-type {\n",
       "        vertical-align: middle;\n",
       "    }\n",
       "\n",
       "    .dataframe tbody tr th {\n",
       "        vertical-align: top;\n",
       "    }\n",
       "\n",
       "    .dataframe thead th {\n",
       "        text-align: right;\n",
       "    }\n",
       "</style>\n",
       "<table border=\"1\" class=\"dataframe\">\n",
       "  <thead>\n",
       "    <tr style=\"text-align: right;\">\n",
       "      <th></th>\n",
       "      <th>ID</th>\n",
       "      <th>Tweet</th>\n",
       "      <th>Timestamp</th>\n",
       "      <th>Likes</th>\n",
       "      <th>Retweets</th>\n",
       "      <th>Length</th>\n",
       "      <th>Date</th>\n",
       "      <th>Time</th>\n",
       "      <th>Class</th>\n",
       "    </tr>\n",
       "  </thead>\n",
       "  <tbody>\n",
       "    <tr>\n",
       "      <th>0</th>\n",
       "      <td>1497300000000000000.00000</td>\n",
       "      <td>قبيل الاحتفال بـ اليوم الدولي لمراة تستعد كوكبة الفنانات الاستثناءيات وفرق موسيقية بقيادات نساءية لابهار زوار اكسبو  دبي عينك علا اكسبو</td>\n",
       "      <td>2/25/22 23:00</td>\n",
       "      <td>1</td>\n",
       "      <td>0</td>\n",
       "      <td>198</td>\n",
       "      <td>2/25/2022</td>\n",
       "      <td>8:00:01 PM</td>\n",
       "      <td>positive</td>\n",
       "    </tr>\n",
       "    <tr>\n",
       "      <th>1</th>\n",
       "      <td>1497300000000000000.00000</td>\n",
       "      <td>لحظات نزول دابانغ سلمان خان علا ارض المسرح اكسبو  يقف علا مجسم لجناحي صقر والتصفيق مستمر الجمهور</td>\n",
       "      <td>2/25/22 22:57</td>\n",
       "      <td>2</td>\n",
       "      <td>0</td>\n",
       "      <td>207</td>\n",
       "      <td>2/25/2022</td>\n",
       "      <td>7:57:14 PM</td>\n",
       "      <td>positive</td>\n",
       "    </tr>\n",
       "    <tr>\n",
       "      <th>2</th>\n",
       "      <td>1497300000000000000.00000</td>\n",
       "      <td>ليلة ميزة بانتظارنا   الحانها شرقية نجومها استثناءين   اكسبو</td>\n",
       "      <td>2/25/22 22:47</td>\n",
       "      <td>0</td>\n",
       "      <td>0</td>\n",
       "      <td>232</td>\n",
       "      <td>2/25/2022</td>\n",
       "      <td>7:47:38 PM</td>\n",
       "      <td>positive</td>\n",
       "    </tr>\n",
       "    <tr>\n",
       "      <th>3</th>\n",
       "      <td>1497300000000000000.00000</td>\n",
       "      <td>اصدق حفلة احلا فستان مستان انا بختار  واذا حفلة فبختار حفلة حفلات نانسي كلون حلوين يعني</td>\n",
       "      <td>2/25/22 22:40</td>\n",
       "      <td>3</td>\n",
       "      <td>1</td>\n",
       "      <td>168</td>\n",
       "      <td>2/25/2022</td>\n",
       "      <td>7:40:37 PM</td>\n",
       "      <td>positive</td>\n",
       "    </tr>\n",
       "    <tr>\n",
       "      <th>4</th>\n",
       "      <td>1497290000000000000.00000</td>\n",
       "      <td>جنون بعده جنون دابانغ سلمان خان يستعرض حشد كبير معجبينه اكسبو</td>\n",
       "      <td>2/25/22 22:21</td>\n",
       "      <td>5</td>\n",
       "      <td>2</td>\n",
       "      <td>178</td>\n",
       "      <td>2/25/2022</td>\n",
       "      <td>7:21:09 PM</td>\n",
       "      <td>positive</td>\n",
       "    </tr>\n",
       "  </tbody>\n",
       "</table>\n",
       "</div>"
      ],
      "text/plain": [
       "                         ID  \\\n",
       "0 1497300000000000000.00000   \n",
       "1 1497300000000000000.00000   \n",
       "2 1497300000000000000.00000   \n",
       "3 1497300000000000000.00000   \n",
       "4 1497290000000000000.00000   \n",
       "\n",
       "                                                                                                                                        Tweet  \\\n",
       "0  قبيل الاحتفال بـ اليوم الدولي لمراة تستعد كوكبة الفنانات الاستثناءيات وفرق موسيقية بقيادات نساءية لابهار زوار اكسبو  دبي عينك علا اكسبو      \n",
       "1                                         لحظات نزول دابانغ سلمان خان علا ارض المسرح اكسبو  يقف علا مجسم لجناحي صقر والتصفيق مستمر الجمهور      \n",
       "2                                                                                ليلة ميزة بانتظارنا   الحانها شرقية نجومها استثناءين   اكسبو   \n",
       "3                                             اصدق حفلة احلا فستان مستان انا بختار  واذا حفلة فبختار حفلة حفلات نانسي كلون حلوين يعني           \n",
       "4                                                                           جنون بعده جنون دابانغ سلمان خان يستعرض حشد كبير معجبينه اكسبو       \n",
       "\n",
       "       Timestamp  Likes  Retweets  Length       Date        Time     Class  \n",
       "0  2/25/22 23:00      1         0     198  2/25/2022  8:00:01 PM  positive  \n",
       "1  2/25/22 22:57      2         0     207  2/25/2022  7:57:14 PM  positive  \n",
       "2  2/25/22 22:47      0         0     232  2/25/2022  7:47:38 PM  positive  \n",
       "3  2/25/22 22:40      3         1     168  2/25/2022  7:40:37 PM  positive  \n",
       "4  2/25/22 22:21      5         2     178  2/25/2022  7:21:09 PM  positive  "
      ]
     },
     "execution_count": 35,
     "metadata": {},
     "output_type": "execute_result"
    }
   ],
   "source": [
    "tweets = pd.read_csv('Tweets\\\\final_tweets_classified.csv')\n",
    "tweets = tweets.drop(['Column1', 'index'], axis=1)\n",
    "tweets = tweets.reset_index(drop=True)\n",
    "tweets.head()\n"
   ]
  },
  {
   "cell_type": "code",
   "execution_count": 36,
   "metadata": {},
   "outputs": [],
   "source": [
    "# Split the data frame into subsets of each class\n",
    "positive = tweets.query('Class == \"positive\"')\n",
    "negative = tweets.query('Class == \"negative\"')\n",
    "neutral = tweets.query('Class == \"neutral\"')\n",
    "\n",
    "# Getting the sum of lengths for each tweets class\n",
    "length_positive = positive.Length.sum()\n",
    "length_negative = negative.Length.sum()\n",
    "length_neutral = neutral.Length.sum()\n",
    "\n",
    "# Getting the average of records for each class\n",
    "average_positive = length_positive/positive.shape[0]\n",
    "average_negative = length_negative/negative.shape[0]\n",
    "average_neutral = length_neutral/neutral.shape[0]\n"
   ]
  },
  {
   "cell_type": "code",
   "execution_count": 77,
   "metadata": {},
   "outputs": [
    {
     "data": {
      "image/png": "[encoded data removed]",
      "text/plain": [
       "<Figure size 432x288 with 1 Axes>"
      ]
     },
     "metadata": {},
     "output_type": "display_data"
    }
   ],
   "source": [
    "# Plotting each class and its tweet length percentage\n",
    "labels = 'Positive', 'Negative', 'Neutral'\n",
    "sizes = [positive.shape[0], negative.shape[0], neutral.shape[0]]\n",
    "\n",
    "fig1, ax1 = plt.subplots()\n",
    "ax1.pie(sizes, labels=labels, autopct='%1.1f%%',\n",
    "        shadow=True, startangle=90)\n",
    "\n",
    "plt.show()\n"
   ]
  },
  {
   "cell_type": "code",
   "execution_count": 84,
   "metadata": {},
   "outputs": [
    {
     "data": {
      "image/png": "[encoded data removed]",
      "text/plain": [
       "<Figure size 576x360 with 1 Axes>"
      ]
     },
     "metadata": {
      "needs_background": "light"
     },
     "output_type": "display_data"
    }
   ],
   "source": [
    "# Plotting each class and its average tweet length\n",
    "fig, ax = plt.subplots(figsize=(8, 5))\n",
    "ax.barh(['positive', 'negative', 'neutral'], [average_positive, average_negative, average_neutral],\n",
    "        align='center', linewidth=1, color = 'seagreen')\n",
    "ax.set_xlabel(\"Average Length\")\n",
    "ax.set_title(\"Length of Tweets Based on Class\", fontsize=20)\n",
    "plt.tight_layout(pad=3)\n",
    "plt.show()"
   ]
  },
  {
   "cell_type": "code",
   "execution_count": 99,
   "metadata": {},
   "outputs": [
    {
     "data": {
      "text/plain": [
       "<seaborn.axisgrid.FacetGrid at 0x1ce66729e80>"
      ]
     },
     "execution_count": 99,
     "metadata": {},
     "output_type": "execute_result"
    },
    {
     "data": {
      "image/png": "[encoded data removed]",
      "text/plain": [
       "<Figure size 648x216 with 3 Axes>"
      ]
     },
     "metadata": {
      "needs_background": "light"
     },
     "output_type": "display_data"
    }
   ],
   "source": [
    "chart = sns.FacetGrid(data=tweets, col='Class')\n",
    "chart.map(plt.hist, 'Length', bins=40, color='purple')"
   ]
  },
  {
   "cell_type": "code",
   "execution_count": 90,
   "metadata": {},
   "outputs": [
    {
     "data": {
      "image/png": "[encoded data removed]",
      "text/plain": [
       "<Figure size 432x288 with 1 Axes>"
      ]
     },
     "metadata": {
      "needs_background": "light"
     },
     "output_type": "display_data"
    }
   ],
   "source": [
    "\n",
    "plt.hist([positive.Length, negative.Length, neutral.Length], \n",
    "         bins=20,\n",
    "         density=True,\n",
    "         label=['Positive', 'Negative', 'Neutral'],\n",
    "         color=['seagreen', 'lightcoral', 'cornflowerblue'])\n",
    "\n",
    "plt.legend(prop={'size': 10})\n",
    "\n",
    "plt.show()\n"
   ]
  }
 ],
 "metadata": {
  "interpreter": {
   "hash": "11938c6bc6919ae2720b4d5011047913343b08a43b18698fd82dedb0d4417594"
  },
  "kernelspec": {
   "display_name": "Python 3.9.7 64-bit",
   "language": "python",
   "name": "python3"
  },
  "language_info": {
   "codemirror_mode": {
    "name": "ipython",
    "version": 3
   },
   "file_extension": ".py",
   "mimetype": "text/x-python",
   "name": "python",
   "nbconvert_exporter": "python",
   "pygments_lexer": "ipython3",
   "version": "3.9.7"
  },
  "orig_nbformat": 4
 },
 "nbformat": 4,
 "nbformat_minor": 2
}
